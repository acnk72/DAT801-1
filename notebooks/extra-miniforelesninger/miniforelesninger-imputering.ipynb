{
 "cells": [
  {
   "cell_type": "markdown",
   "id": "ba308fce-27f6-48a0-948b-7121d05a7d22",
   "metadata": {},
   "source": [
    "# Setup"
   ]
  },
  {
   "cell_type": "code",
   "execution_count": null,
   "id": "a1b76349-871b-4150-8184-296cc41e7a92",
   "metadata": {},
   "outputs": [],
   "source": [
    "%matplotlib inline\n",
    "\n",
    "import numpy as np, pandas as pd\n",
    "import matplotlib.pyplot as plt \n",
    "from pathlib import Path\n",
    "import seaborn as sns \n",
    "import sklearn\n",
    "from sklearn import datasets"
   ]
  },
  {
   "cell_type": "code",
   "execution_count": null,
   "id": "86ce74ab-38aa-4e4d-9745-26c98fe9cdbe",
   "metadata": {},
   "outputs": [],
   "source": [
    "# This is a quick check of whether the notebook is currently running on Google Colaboratory, as that makes some difference for the code below.\n",
    "# We'll do this in every notebook of the course.\n",
    "if 'google.colab' in str(get_ipython()):\n",
    "    print('The notebook is running on Colab. colab=True.')\n",
    "    colab=True\n",
    "else:\n",
    "    print('The notebook is not running on Colab. colab=False.')\n",
    "    colab=False"
   ]
  },
  {
   "cell_type": "markdown",
   "id": "3defd80b-5db9-4980-96a1-ba40b6b99aa2",
   "metadata": {},
   "source": [
    "# Data"
   ]
  },
  {
   "cell_type": "code",
   "execution_count": null,
   "id": "09fd82da-3e6a-4508-8012-de2afde425da",
   "metadata": {},
   "outputs": [],
   "source": [
    "NB_DIR = Path.cwd()\n",
    "DATA = NB_DIR/'data'\n",
    "DATA.mkdir(exist_ok=True)"
   ]
  },
  {
   "cell_type": "markdown",
   "id": "5284a005-89f6-49ee-9fc6-de03d8065cfd",
   "metadata": {},
   "source": [
    "Vi bruker datasettet fra innlevering 1:"
   ]
  },
  {
   "cell_type": "code",
   "execution_count": null,
   "id": "244e381a-edc9-4a88-b551-8041a9168d5c",
   "metadata": {},
   "outputs": [],
   "source": [
    "if colab:\n",
    "    df = pd.read_csv('https://www.dropbox.com/s/ctlniradiv1i5id/assignment1-train.csv?dl=1')"
   ]
  },
  {
   "cell_type": "code",
   "execution_count": null,
   "id": "0a256d93-83ca-4dc4-9c2b-ae600a29ae02",
   "metadata": {},
   "outputs": [],
   "source": [
    "if not colab:\n",
    "    df = pd.read_csv(DATA/'assignment1-train.csv')"
   ]
  },
  {
   "cell_type": "markdown",
   "id": "8382e864-4590-4aa9-9ebc-ca7cdbea6210",
   "metadata": {},
   "source": [
    "# Imputering"
   ]
  },
  {
   "cell_type": "markdown",
   "id": "f4484e23-4bc3-4fdc-a778-6e0985d91db5",
   "metadata": {},
   "source": [
    "> Hvordan håndtere manglende verdier? "
   ]
  },
  {
   "cell_type": "markdown",
   "id": "272d3463-0a58-4fb5-bf36-aa0ac65b2d8c",
   "metadata": {},
   "source": [
    "1. Først må de **detekteres**. I praksis kan manglende verdier være kodet på omtrent hvilken som helst måte. Ofte bruker man blanke verdier, placeholder-verdier (f.eks. -1) eller NaNs (not-a-number).\n",
    "\n",
    "2. Deretter kan man _imputere_. Det vil si, fylle inn manglende data"
   ]
  },
  {
   "cell_type": "markdown",
   "id": "20115fb6-3099-42e2-a6ea-e9a5900746f7",
   "metadata": {},
   "source": [
    "Historien vi skal fortelle om dette har behov for at vi er i en maskinlærings-situasjon med X, y og trenings- og test-data:"
   ]
  },
  {
   "cell_type": "code",
   "execution_count": null,
   "id": "1c548004-215b-4e28-b68d-c3ed161730bc",
   "metadata": {},
   "outputs": [],
   "source": [
    "X, y = df.drop('target', axis=1), df.target"
   ]
  },
  {
   "cell_type": "code",
   "execution_count": null,
   "id": "22b3a50b-0384-4abf-a882-ca83d036a6a6",
   "metadata": {},
   "outputs": [],
   "source": [
    "from sklearn.model_selection import train_test_split"
   ]
  },
  {
   "cell_type": "code",
   "execution_count": null,
   "id": "5bb1ed4c-1735-4504-84db-934c740ada7e",
   "metadata": {},
   "outputs": [],
   "source": [
    "X_train, X_test, y_train, y_test = train_test_split(X, y, test_size=0.25)"
   ]
  },
  {
   "cell_type": "markdown",
   "id": "99cf4187-3f43-4b9e-aba7-e43435ad05f0",
   "metadata": {},
   "source": [
    "## 1. Detektere manglende verdier"
   ]
  },
  {
   "cell_type": "markdown",
   "id": "5de3b02d-0ddd-42d8-9ca4-78b7bb81eed6",
   "metadata": {},
   "source": [
    "Det første man typisk undersøker er hvorvidt det er NaN-verdier i datasettet. Hvis en arbeider med en Pandas dataframe er dette enkelt: "
   ]
  },
  {
   "cell_type": "code",
   "execution_count": null,
   "id": "5539fc71-c443-4041-8b4a-cd1066a63ef8",
   "metadata": {},
   "outputs": [],
   "source": [
    "X_train.isna()"
   ]
  },
  {
   "cell_type": "code",
   "execution_count": null,
   "id": "f66c205a-eb1c-402e-8f2c-7e872cde04dc",
   "metadata": {},
   "outputs": [],
   "source": [
    "X_train.isna().sum()"
   ]
  },
  {
   "cell_type": "code",
   "execution_count": null,
   "id": "b14c3c68-e038-4fdf-b2f5-0eb0f4a17d25",
   "metadata": {},
   "outputs": [],
   "source": [
    "# For å tvinge Pandas til å vise alle radene i datasettet: \n",
    "with pd.option_context('display.max_rows', None): \n",
    "    print(X_train.isna().sum())"
   ]
  },
  {
   "cell_type": "code",
   "execution_count": null,
   "id": "c80507d1-160f-4cf1-940e-b2b245198c60",
   "metadata": {},
   "outputs": [],
   "source": [
    "plt.figure(figsize=(16,8))\n",
    "X_train.isna().sum().plot(kind='bar')\n",
    "plt.show()"
   ]
  },
  {
   "cell_type": "markdown",
   "id": "a8fbd323-3905-4d29-a0ea-fe1234f92461",
   "metadata": {},
   "source": [
    "Men manglende verdier kan være kodet annerledes. En måte å finne disse er å se på hvilke verdier som finnes i datasettet. "
   ]
  },
  {
   "cell_type": "markdown",
   "id": "60ea61ce-f567-419f-a439-65c4e6040227",
   "metadata": {},
   "source": [
    "I vårt tilfelle er alle features kodet som flyt-tall. Altså kan manglende verdier ikke være reprentert som strenger (f.eks. som tomme strenger \" \"):"
   ]
  },
  {
   "cell_type": "code",
   "execution_count": null,
   "id": "1533417b-5a1e-49a9-b1a5-004e5cdcad7b",
   "metadata": {},
   "outputs": [],
   "source": [
    "X_train.info()"
   ]
  },
  {
   "cell_type": "markdown",
   "id": "9fff0972-e39f-4730-afb8-467cf98aae9a",
   "metadata": {},
   "source": [
    "Hvis features ikke har for mange ulike verdier er det nyttig å telle opp antall instanser som har hver verdi:"
   ]
  },
  {
   "cell_type": "code",
   "execution_count": null,
   "id": "48903efe-0008-48f0-954b-2410254647dc",
   "metadata": {},
   "outputs": [],
   "source": [
    "X_train['f_0'].value_counts()"
   ]
  },
  {
   "cell_type": "code",
   "execution_count": null,
   "id": "6c409b6f-73d7-427b-b936-34614500b196",
   "metadata": {},
   "outputs": [],
   "source": [
    "for feature in X_train.columns[1:]:   # Vi tar ikke med id-søylen\n",
    "    print(f\"Value count for {feature}\")\n",
    "    with pd.option_context('display.max_rows', None): \n",
    "        print(X_train[feature].value_counts())\n",
    "    print(\"#\"*40)"
   ]
  },
  {
   "cell_type": "markdown",
   "id": "f0c4aa83-07bd-45cb-ade3-d44029929619",
   "metadata": {},
   "source": [
    "Det ser i vårt tilfelle ut som at alle manglende verdier er kodet som NaN-verdier. "
   ]
  },
  {
   "cell_type": "markdown",
   "id": "9200a5b4-6e32-493f-a05b-077d0067d954",
   "metadata": {},
   "source": [
    "## 2. Imputere"
   ]
  },
  {
   "cell_type": "markdown",
   "id": "ed4ab8c0-79f0-441d-8694-b09d4e6568dd",
   "metadata": {},
   "source": [
    "Det neste blir å erstatte disse NaN-verdiene. Som vi har sett på er det mange ulike strategier. "
   ]
  },
  {
   "cell_type": "markdown",
   "id": "71a1bef6-d41b-4b39-b58a-0b841fbcc5af",
   "metadata": {},
   "source": [
    "### Enkle strategier"
   ]
  },
  {
   "cell_type": "markdown",
   "id": "a59af57d-8e1d-4798-b809-920eb5a937b1",
   "metadata": {},
   "source": [
    "Vi starter med noen enkle strategier: erstatte verdiene ved å bruke gjennomsnitt, median eller den hyppigste verdien"
   ]
  },
  {
   "cell_type": "code",
   "execution_count": null,
   "id": "1a139d2d-73b4-43a4-9882-1e15ff2c2721",
   "metadata": {},
   "outputs": [],
   "source": [
    "from sklearn.impute import SimpleImputer"
   ]
  },
  {
   "cell_type": "code",
   "execution_count": null,
   "id": "d4793ed9-752e-4842-a945-bad4726fe9e2",
   "metadata": {},
   "outputs": [],
   "source": [
    "?SimpleImputer"
   ]
  },
  {
   "cell_type": "code",
   "execution_count": null,
   "id": "4e4c09e9-4035-470f-9bf0-5c0f43446ac4",
   "metadata": {},
   "outputs": [],
   "source": [
    "imp = SimpleImputer(strategy='mean')"
   ]
  },
  {
   "cell_type": "markdown",
   "id": "8328ed57-8911-4ba7-b4e4-72e3fe65b6cf",
   "metadata": {},
   "source": [
    "Merk at man kan bruke samme strategi for hver feature, eller ulike strategier for ulike features:"
   ]
  },
  {
   "cell_type": "markdown",
   "id": "9d9d0301-0975-41e3-b12f-d8e4b6edc7a3",
   "metadata": {},
   "source": [
    "Her er samme strategi brukt for alle features:"
   ]
  },
  {
   "cell_type": "code",
   "execution_count": null,
   "id": "9cac7622-641b-41bb-be93-4da3eeebdbd6",
   "metadata": {},
   "outputs": [],
   "source": [
    "X_train_imputed = imp.fit_transform(X_train)\n",
    "# Reprenter som en dataframe:\n",
    "X_train_imputed = pd.DataFrame(data=X_train_imputed, columns=X_train.columns)"
   ]
  },
  {
   "cell_type": "code",
   "execution_count": null,
   "id": "1d58da65-e887-4a7d-9fad-6e1cc1e88ba8",
   "metadata": {
    "tags": []
   },
   "outputs": [],
   "source": [
    "with pd.option_context('display.max_rows', None):\n",
    "    print(X_train_imputed.isna().sum())"
   ]
  },
  {
   "cell_type": "markdown",
   "id": "bacfac73-47db-4203-a5e1-d28b44d96def",
   "metadata": {},
   "source": [
    "Her er feature-spesifikke strategier per feature:"
   ]
  },
  {
   "cell_type": "code",
   "execution_count": null,
   "id": "5c1e411d-189d-49a5-a87c-9e9aab1ac26f",
   "metadata": {},
   "outputs": [],
   "source": [
    "# Vi lager en kopi slik at vi enkelt kan reversere operasjonen:\n",
    "X_train_copy = X_train.copy()"
   ]
  },
  {
   "cell_type": "code",
   "execution_count": null,
   "id": "7aa86760-f6ff-47aa-b9b3-b7b2a732ab52",
   "metadata": {},
   "outputs": [],
   "source": [
    "features = ['f_0', 'f_1']\n",
    "imp = SimpleImputer(strategy='mean')\n",
    "# Transformer de valgte features:\n",
    "X_train_imp = imp.fit_transform(X_train_copy[features])\n",
    "# Erstatt søylene med de nye verdiene\n",
    "X_train_copy[features] = X_train_imp"
   ]
  },
  {
   "cell_type": "code",
   "execution_count": null,
   "id": "a2f1142e-474e-43a4-a446-44325e87a24b",
   "metadata": {},
   "outputs": [],
   "source": [
    "features = ['f_6', 'f_7']\n",
    "imp = SimpleImputer(strategy='median')\n",
    "# Transformer de valgte features:\n",
    "X_train_imp = imp.fit_transform(X_train_copy[features])\n",
    "# Erstatt søylene med de nye verdiene\n",
    "X_train_copy[features] = X_train_imp"
   ]
  },
  {
   "cell_type": "code",
   "execution_count": null,
   "id": "525a5a71-ccb2-4518-a337-c49b0f1dcb6d",
   "metadata": {},
   "outputs": [],
   "source": [
    "features = ['f_8']\n",
    "imp = SimpleImputer(strategy='most_frequent')\n",
    "# Transformer de valgte features:\n",
    "X_train_imp = imp.fit_transform(X_train_copy[features])\n",
    "# Erstatt søylene med de nye verdiene\n",
    "X_train_copy[features] = X_train_imp"
   ]
  },
  {
   "cell_type": "code",
   "execution_count": null,
   "id": "551b4b59-b5e7-452a-9b3d-79ae111047c3",
   "metadata": {},
   "outputs": [],
   "source": [
    "X_train[40:80]"
   ]
  },
  {
   "cell_type": "code",
   "execution_count": null,
   "id": "2cd44ba7-ecca-4dc1-ab8c-9709ad05ba61",
   "metadata": {},
   "outputs": [],
   "source": [
    "X_train_copy[40:80]"
   ]
  },
  {
   "cell_type": "markdown",
   "id": "e949eb22-185e-403b-823b-eefe3dbcd7b2",
   "metadata": {},
   "source": [
    "### Mer avanserte strategier"
   ]
  },
  {
   "cell_type": "markdown",
   "id": "aac08283-ab84-42ba-8de4-4c6da529b552",
   "metadata": {},
   "source": [
    "En kan være mer spissfindig enn å imputere verdier ved å bruke verdiene til alle instanser. Man kan for eksempel finne hvilke verdier en skal erstatte med ved å bruke kun _lignende_ instanser, istedenfor alle. "
   ]
  },
  {
   "cell_type": "markdown",
   "id": "a3ec627c-a1a3-4ed4-a5eb-f9f02316b947",
   "metadata": {},
   "source": [
    "En strategi for dette er å trene en modell som kan gruppere lignende instanser. Et eksempel på dette er såkalte **K næreste nabo** eller KNN.  "
   ]
  },
  {
   "cell_type": "markdown",
   "id": "e5636cdc-e627-40d7-a48e-926d9450bda9",
   "metadata": {},
   "source": [
    "<img src='https://upload.wikimedia.org/wikipedia/commons/thumb/e/e7/KnnClassification.svg/850px-KnnClassification.svg.png'>"
   ]
  },
  {
   "cell_type": "code",
   "execution_count": null,
   "id": "a97e72a9-4127-4b52-8ccc-62001faaff8d",
   "metadata": {},
   "outputs": [],
   "source": [
    "from sklearn.impute import KNNImputer"
   ]
  },
  {
   "cell_type": "code",
   "execution_count": null,
   "id": "40905e09-fd39-447a-bded-284eb18aa028",
   "metadata": {},
   "outputs": [],
   "source": [
    "?KNNImputer"
   ]
  },
  {
   "cell_type": "code",
   "execution_count": null,
   "id": "723d1346-409a-4baa-ab32-1e915f3a0827",
   "metadata": {},
   "outputs": [],
   "source": [
    "knn_imp = KNNImputer()"
   ]
  },
  {
   "cell_type": "markdown",
   "id": "dc9d3c4c-bce7-41fd-a750-8d38f478417c",
   "metadata": {},
   "source": [
    "Det tar en stund å trene modellen så vi bruker den her kun på to features:"
   ]
  },
  {
   "cell_type": "code",
   "execution_count": null,
   "id": "783c19d9-6b69-42d1-9d42-720c09338bae",
   "metadata": {},
   "outputs": [],
   "source": [
    "X_train_copy = X_train.copy()"
   ]
  },
  {
   "cell_type": "code",
   "execution_count": null,
   "id": "d181421b-6af2-4e3c-842d-7312e8cf405d",
   "metadata": {},
   "outputs": [],
   "source": [
    "X_train[40:50]"
   ]
  },
  {
   "cell_type": "code",
   "execution_count": null,
   "id": "ea1385a7-7e0d-49e5-816d-5072f79e67e8",
   "metadata": {},
   "outputs": [],
   "source": [
    "features = ['f_0', 'f_1']\n",
    "imp = KNNImputer()\n",
    "# Transformer de valgte features:\n",
    "X_train_imp = imp.fit_transform(X_train_copy[features])\n",
    "# Erstatt søylene med de nye verdiene\n",
    "X_train_copy[features] = X_train_imp"
   ]
  },
  {
   "cell_type": "code",
   "execution_count": null,
   "id": "da432a8f-e526-41a8-b1eb-26712cacf5cc",
   "metadata": {},
   "outputs": [],
   "source": [
    "X_train_copy[40:50]"
   ]
  },
  {
   "cell_type": "markdown",
   "id": "d093e0fc-34bb-477e-b66f-d11770a6fb18",
   "metadata": {},
   "source": [
    "### En annen strategi: tren en modell til å imputere"
   ]
  },
  {
   "cell_type": "markdown",
   "id": "25f802e4-be09-41c6-839f-177e6809cbad",
   "metadata": {},
   "source": [
    "En annen strategi er å trene en regresjonsmodell, for eksempel en RandomForestRegressor, til å predikere manglende verdier fra verdiene som ikke mangler. \n",
    "\n",
    "Dette kan gjøres iterativt: i hvert steg velges en feature-søyle til å gi outputs `y`. Deretter trenes en modell på alle features uten manglende verdier til å predikere `y` ved å bruke de instansene der en kjenner verdiene av `y`. Denne modellen kan så brukes til å fylle inn. Dette kan en iterere over alle søylene til en ikke lenger har manglende verdier, og man kan gjøre det om og om igjen til en når et maksimalt antall iterasjoner. "
   ]
  },
  {
   "cell_type": "code",
   "execution_count": null,
   "id": "71f42097-6562-47f5-b7fe-8feb6c438770",
   "metadata": {},
   "outputs": [],
   "source": [
    "from sklearn.experimental import enable_iterative_imputer\n",
    "from sklearn.impute import IterativeImputer"
   ]
  },
  {
   "cell_type": "code",
   "execution_count": null,
   "id": "66968fbb-33e5-4b95-ba8b-4fed937ff718",
   "metadata": {},
   "outputs": [],
   "source": [
    "from sklearn.ensemble import RandomForestRegressor\n",
    "\n",
    "estimator = RandomForestRegressor()"
   ]
  },
  {
   "cell_type": "code",
   "execution_count": null,
   "id": "a1087f37-d211-49b8-b60c-cbaf53064acd",
   "metadata": {},
   "outputs": [],
   "source": [
    "#?IterativeImputer"
   ]
  },
  {
   "cell_type": "code",
   "execution_count": null,
   "id": "a7df843a-e412-491a-a7ec-f69e1e568def",
   "metadata": {},
   "outputs": [],
   "source": [
    "X_train_copy = X_train.copy()"
   ]
  },
  {
   "cell_type": "code",
   "execution_count": null,
   "id": "f508b6ae-f873-475b-954f-68eb36153751",
   "metadata": {},
   "outputs": [],
   "source": [
    "X_train_copy[40:50]"
   ]
  },
  {
   "cell_type": "code",
   "execution_count": null,
   "id": "214b543b-f94d-4625-bf2e-f2ea80f6f89a",
   "metadata": {},
   "outputs": [],
   "source": [
    "features = ['f_0', 'f_1']\n",
    "imp = IterativeImputer(estimator=estimator)\n",
    "# Transformer de valgte features:\n",
    "X_train_imp = imp.fit_transform(X_train_copy[features])\n",
    "# Erstatt søylene med de nye verdiene\n",
    "X_train_copy[features] = X_train_imp"
   ]
  },
  {
   "cell_type": "code",
   "execution_count": null,
   "id": "d03f1b2c-82cf-44f9-ac81-81864b09af7a",
   "metadata": {},
   "outputs": [],
   "source": [
    "X_train_copy[40:50]"
   ]
  },
  {
   "cell_type": "markdown",
   "id": "3f762de7-c7bd-4a93-8899-3d09bc26e1e5",
   "metadata": {},
   "source": [
    "# Imputering for test-settet"
   ]
  },
  {
   "cell_type": "markdown",
   "id": "82656211-6291-4ffa-84b7-0c74c1c1e261",
   "metadata": {},
   "source": [
    "***OBS: Her ligger det en litt skjult fare!*** Pass på å finne ut hvilke verdier en skal putte inn fra _treningsdata_, ikke fra testdata!"
   ]
  },
  {
   "cell_type": "code",
   "execution_count": null,
   "id": "3252fdc9-707e-4ba6-a5a5-5cf6dda6e05c",
   "metadata": {},
   "outputs": [],
   "source": [
    "imp = SimpleImputer(strategy='mean')"
   ]
  },
  {
   "cell_type": "code",
   "execution_count": null,
   "id": "3b9f6cc7-baea-4c58-8aff-417dbc332910",
   "metadata": {},
   "outputs": [],
   "source": [
    "X_train_imputed = imp.fit_transform(X_train)\n",
    "X_test_imputed = imp.transform(X_test)"
   ]
  },
  {
   "cell_type": "markdown",
   "id": "0e5d251e-4cba-4005-8368-3827e90bdba3",
   "metadata": {},
   "source": [
    "> ***Hvorfor bruker man `.fit_transform` på treningssettet, men `.transform` på test-settet?***"
   ]
  }
 ],
 "metadata": {
  "kernelspec": {
   "display_name": "DAT801",
   "language": "python",
   "name": "dat801"
  },
  "language_info": {
   "codemirror_mode": {
    "name": "ipython",
    "version": 3
   },
   "file_extension": ".py",
   "mimetype": "text/x-python",
   "name": "python",
   "nbconvert_exporter": "python",
   "pygments_lexer": "ipython3",
   "version": "3.9.6"
  }
 },
 "nbformat": 4,
 "nbformat_minor": 5
}
