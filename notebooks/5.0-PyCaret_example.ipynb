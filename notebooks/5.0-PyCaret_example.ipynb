{
 "cells": [
  {
   "cell_type": "markdown",
   "id": "ec796084",
   "metadata": {
    "toc": true
   },
   "source": [
    "<h1>Table of Contents<span class=\"tocSkip\"></span></h1>\n",
    "<div class=\"toc\"><ul class=\"toc-item\"><li><span><a href=\"#PyCaret-tutorial-for-DAT801\" data-toc-modified-id=\"PyCaret-tutorial-for-DAT801-1\"><span class=\"toc-item-num\">1&nbsp;&nbsp;</span>PyCaret tutorial for DAT801</a></span></li><li><span><a href=\"#Getting-the-data\" data-toc-modified-id=\"Getting-the-data-2\"><span class=\"toc-item-num\">2&nbsp;&nbsp;</span>Getting the data</a></span></li><li><span><a href=\"#Last-inn-datasettet-og-ta-en-kikk-på-dets-struktur\" data-toc-modified-id=\"Last-inn-datasettet-og-ta-en-kikk-på-dets-struktur-3\"><span class=\"toc-item-num\">3&nbsp;&nbsp;</span>Last inn datasettet og ta en kikk på dets struktur</a></span></li><li><span><a href=\"#Utforsk-data\" data-toc-modified-id=\"Utforsk-data-4\"><span class=\"toc-item-num\">4&nbsp;&nbsp;</span>Utforsk data</a></span></li><li><span><a href=\"#Forbered-data\" data-toc-modified-id=\"Forbered-data-5\"><span class=\"toc-item-num\">5&nbsp;&nbsp;</span>Forbered data</a></span></li><li><span><a href=\"#Tren-noen-baseline-modeller\" data-toc-modified-id=\"Tren-noen-baseline-modeller-6\"><span class=\"toc-item-num\">6&nbsp;&nbsp;</span>Tren noen baseline-modeller</a></span></li><li><span><a href=\"#Hyperparameter-tuning\" data-toc-modified-id=\"Hyperparameter-tuning-7\"><span class=\"toc-item-num\">7&nbsp;&nbsp;</span>Hyperparameter tuning</a></span></li><li><span><a href=\"#Ensembling\" data-toc-modified-id=\"Ensembling-8\"><span class=\"toc-item-num\">8&nbsp;&nbsp;</span>Ensembling</a></span></li><li><span><a href=\"#Analyser-resultatene\" data-toc-modified-id=\"Analyser-resultatene-9\"><span class=\"toc-item-num\">9&nbsp;&nbsp;</span>Analyser resultatene</a></span><ul class=\"toc-item\"><li><ul class=\"toc-item\"><li><span><a href=\"#Confusion-matrix\" data-toc-modified-id=\"Confusion-matrix-9.0.1\"><span class=\"toc-item-num\">9.0.1&nbsp;&nbsp;</span>Confusion matrix</a></span></li><li><span><a href=\"#Errors\" data-toc-modified-id=\"Errors-9.0.2\"><span class=\"toc-item-num\">9.0.2&nbsp;&nbsp;</span>Errors</a></span></li><li><span><a href=\"#Precision-versus-recall\" data-toc-modified-id=\"Precision-versus-recall-9.0.3\"><span class=\"toc-item-num\">9.0.3&nbsp;&nbsp;</span>Precision versus recall</a></span></li><li><span><a href=\"#Feature-importance\" data-toc-modified-id=\"Feature-importance-9.0.4\"><span class=\"toc-item-num\">9.0.4&nbsp;&nbsp;</span>Feature importance</a></span><ul class=\"toc-item\"><li><span><a href=\"#Tolkning-av-modeller\" data-toc-modified-id=\"Tolkning-av-modeller-9.0.4.1\"><span class=\"toc-item-num\">9.0.4.1&nbsp;&nbsp;</span>Tolkning av modeller</a></span></li></ul></li></ul></li></ul></li><li><span><a href=\"#Bruk-modell-på-ny-data\" data-toc-modified-id=\"Bruk-modell-på-ny-data-10\"><span class=\"toc-item-num\">10&nbsp;&nbsp;</span>Bruk modell på ny data</a></span></li><li><span><a href=\"#Eksporter-modell\" data-toc-modified-id=\"Eksporter-modell-11\"><span class=\"toc-item-num\">11&nbsp;&nbsp;</span>Eksporter modell</a></span><ul class=\"toc-item\"><li><span><a href=\"#Deploy-modell\" data-toc-modified-id=\"Deploy-modell-11.1\"><span class=\"toc-item-num\">11.1&nbsp;&nbsp;</span>Deploy modell</a></span></li></ul></li></ul></div>"
   ]
  },
  {
   "cell_type": "markdown",
   "id": "4fe528c8",
   "metadata": {},
   "source": [
    "**NB: Hvis du vil kjøre denne notebooken på din egen maskin, se installasjonsinstruksjoner for PyCaret på DAT801s GitHub-side**"
   ]
  },
  {
   "cell_type": "markdown",
   "id": "09b6c866-281e-46c3-8572-90261e51be0a",
   "metadata": {},
   "source": [
    "# PyCaret tutorial for DAT801"
   ]
  },
  {
   "cell_type": "markdown",
   "id": "60e288b3-8f63-4dff-be76-1ba01270646a",
   "metadata": {},
   "source": [
    "<img src=\"assets/pycaret.png\" width=\"800\" height=\"400\">\n",
    "PyCaret er et open-source maskinlæringsbibliotek i Python som bistår i prosessen fra forbereding av data til deployment. "
   ]
  },
  {
   "cell_type": "code",
   "execution_count": null,
   "id": "9f543164",
   "metadata": {},
   "outputs": [],
   "source": [
    "%matplotlib inline\n",
    "import matplotlib.pyplot as plt"
   ]
  },
  {
   "cell_type": "code",
   "execution_count": null,
   "id": "f078f075",
   "metadata": {},
   "outputs": [],
   "source": [
    "# This is a quick check of whether the notebook is currently running on Google Colaboratory, as that makes some difference for the code below.\n",
    "# We'll do this in every notebook of the course.\n",
    "if 'google.colab' in str(get_ipython()):\n",
    "    print('The notebook is running on Colab. colab=True.')\n",
    "    colab=True\n",
    "else:\n",
    "    print('The notebook is not running on Colab. colab=False.')\n",
    "    colab=False"
   ]
  },
  {
   "cell_type": "code",
   "execution_count": null,
   "id": "81f3c1e3-d6a4-409f-8c5c-928fce362123",
   "metadata": {},
   "outputs": [],
   "source": [
    "if colab:\n",
    "    !pip install pycaret[all]==2.3.4"
   ]
  },
  {
   "cell_type": "markdown",
   "id": "2393defc-2159-4b3b-b2a5-ee5d254b6753",
   "metadata": {
    "tags": []
   },
   "source": [
    "# Getting the data"
   ]
  },
  {
   "cell_type": "code",
   "execution_count": null,
   "id": "fddc34bf-1560-4511-8d8d-64a285e7d563",
   "metadata": {},
   "outputs": [],
   "source": [
    "import pycaret"
   ]
  },
  {
   "cell_type": "code",
   "execution_count": null,
   "id": "49b609de-cc8d-4978-8353-9082984852a8",
   "metadata": {},
   "outputs": [],
   "source": [
    "from pycaret.datasets import get_data"
   ]
  },
  {
   "cell_type": "code",
   "execution_count": null,
   "id": "43e0a257-58b5-45fe-a1ec-e044fcab9831",
   "metadata": {
    "scrolled": false
   },
   "outputs": [],
   "source": [
    "_ = get_data('index')"
   ]
  },
  {
   "cell_type": "markdown",
   "id": "7e388693",
   "metadata": {},
   "source": [
    "# Last inn datasettet og ta en kikk på dets struktur"
   ]
  },
  {
   "cell_type": "markdown",
   "id": "3d9cbaa9",
   "metadata": {},
   "source": [
    "For at beregningene ikke skal ta så lang tid bruker vi her et relativt lite datasett. Du er velkommen til å forsøke noen av de andre i listen over! For eksempel `income`."
   ]
  },
  {
   "cell_type": "code",
   "execution_count": null,
   "id": "38aa6114",
   "metadata": {
    "scrolled": false
   },
   "outputs": [],
   "source": [
    "#data = get_data('income')\n",
    "data = get_data('diabetes')"
   ]
  },
  {
   "cell_type": "code",
   "execution_count": null,
   "id": "c9f2c43c",
   "metadata": {},
   "outputs": [],
   "source": [
    "data['Class variable'].value_counts()"
   ]
  },
  {
   "cell_type": "code",
   "execution_count": null,
   "id": "f56b4d01",
   "metadata": {},
   "outputs": [],
   "source": [
    "data.info()"
   ]
  },
  {
   "cell_type": "code",
   "execution_count": null,
   "id": "1354579b",
   "metadata": {},
   "outputs": [],
   "source": [
    "data.describe()"
   ]
  },
  {
   "cell_type": "markdown",
   "id": "b5aa6ae1",
   "metadata": {},
   "source": [
    "Target er `Class variable` som er en binær variabel (True / False):"
   ]
  },
  {
   "cell_type": "code",
   "execution_count": null,
   "id": "6e0ad40e",
   "metadata": {},
   "outputs": [],
   "source": [
    "data['Class variable'].hist()"
   ]
  },
  {
   "cell_type": "markdown",
   "id": "e88e27ed",
   "metadata": {},
   "source": [
    "Vi ser at:\n",
    "- Det er både numeriske og kategoriske features\n",
    "- Det er behov for skalering av numeriske features\n",
    "- Datasettet er ubalansert"
   ]
  },
  {
   "cell_type": "markdown",
   "id": "8650e56e",
   "metadata": {},
   "source": [
    "# Utforsk data"
   ]
  },
  {
   "cell_type": "markdown",
   "id": "bec24f61",
   "metadata": {},
   "source": [
    "Etter at en har lastet ned data og undersøkt strukturen bør en sette i gang med en grundigere utforsking. Vi har studert hvordan dette kan gjøres tidligere i kurset. \n",
    "\n",
    "Her er en pakke som kan gjøre en god del av den vanlige utforskingen automatisk:"
   ]
  },
  {
   "cell_type": "code",
   "execution_count": null,
   "id": "539eaeac",
   "metadata": {},
   "outputs": [],
   "source": [
    "from pandas_profiling import ProfileReport"
   ]
  },
  {
   "cell_type": "code",
   "execution_count": null,
   "id": "611fe42c",
   "metadata": {
    "scrolled": false
   },
   "outputs": [],
   "source": [
    "ProfileReport(data)"
   ]
  },
  {
   "cell_type": "markdown",
   "id": "0a71ca0e",
   "metadata": {},
   "source": [
    "# Forbered data"
   ]
  },
  {
   "cell_type": "code",
   "execution_count": null,
   "id": "5ed471bf-4c9e-4bfb-991f-9740c022f3f7",
   "metadata": {},
   "outputs": [],
   "source": [
    "from pycaret.classification import *"
   ]
  },
  {
   "cell_type": "code",
   "execution_count": null,
   "id": "3c021fc2-881d-4f37-9b6e-e35dc3a00c0a",
   "metadata": {
    "scrolled": false
   },
   "outputs": [],
   "source": [
    "data = setup(data=data, target='Class variable', numeric_imputation='median', \n",
    "             normalize=True, normalize_method='robust', session_id=42)"
   ]
  },
  {
   "cell_type": "markdown",
   "id": "28eb14d4-e589-4051-aedb-956cf518a199",
   "metadata": {},
   "source": [
    "# Tren noen baseline-modeller"
   ]
  },
  {
   "cell_type": "code",
   "execution_count": null,
   "id": "4e90f54a-3571-4762-8790-d9d4f9419bef",
   "metadata": {},
   "outputs": [],
   "source": [
    "models()"
   ]
  },
  {
   "cell_type": "code",
   "execution_count": null,
   "id": "512e71da",
   "metadata": {},
   "outputs": [],
   "source": [
    "top_models = compare_models(n_select=6, sort='F1')"
   ]
  },
  {
   "cell_type": "markdown",
   "id": "7b1d0ab4-630d-48fe-988f-b8189932f62b",
   "metadata": {},
   "source": [
    "# Hyperparameter tuning"
   ]
  },
  {
   "cell_type": "markdown",
   "id": "d104f472",
   "metadata": {},
   "source": [
    "Nå har vi funnet noen kandidat-modeller: "
   ]
  },
  {
   "cell_type": "code",
   "execution_count": null,
   "id": "6a54964b",
   "metadata": {},
   "outputs": [],
   "source": [
    "top_models"
   ]
  },
  {
   "cell_type": "markdown",
   "id": "8e88aea1",
   "metadata": {},
   "source": [
    "Vi tune deres hyperparametre for å forsøke å forbedre deres ytelse (merk at vi kjører litt ulike antall iterasjoner da noen av modellene er ganske trege å trene):"
   ]
  },
  {
   "cell_type": "code",
   "execution_count": null,
   "id": "4e3a42c3",
   "metadata": {
    "scrolled": false
   },
   "outputs": [],
   "source": [
    "tuned_ada = tune_model(top_models[0], fold=10, n_iter=100, optimize='F1')"
   ]
  },
  {
   "cell_type": "code",
   "execution_count": null,
   "id": "e86bbad0",
   "metadata": {
    "scrolled": false
   },
   "outputs": [],
   "source": [
    "tuned_lightgbm = tune_model(top_models[1], fold=10, n_iter=400, optimize='F1')"
   ]
  },
  {
   "cell_type": "code",
   "execution_count": null,
   "id": "80115e04",
   "metadata": {},
   "outputs": [],
   "source": [
    "tuned_gbc = tune_model(top_models[2], fold=10, n_iter=100, optimize='F1')"
   ]
  },
  {
   "cell_type": "code",
   "execution_count": null,
   "id": "2855ed45",
   "metadata": {},
   "outputs": [],
   "source": [
    "tuned_catboost = tune_model(top_models[3], fold=10, n_iter=50, optimize='F1')"
   ]
  },
  {
   "cell_type": "code",
   "execution_count": null,
   "id": "ada2e083",
   "metadata": {},
   "outputs": [],
   "source": [
    "tuned_rf = tune_model(top_models[4], fold=10, n_iter=300, optimize='F1')"
   ]
  },
  {
   "cell_type": "markdown",
   "id": "c433242a",
   "metadata": {},
   "source": [
    "> Merk at vi har brukt default parameter-grids satt av PyCaret. Ofte kan det være lurt å se nøyere på valg av grid en søker over. "
   ]
  },
  {
   "cell_type": "markdown",
   "id": "529803db",
   "metadata": {},
   "source": [
    "Her er de fire beste modellene og de beste hyperparametrene vi fant for hver:"
   ]
  },
  {
   "cell_type": "markdown",
   "id": "849bb838",
   "metadata": {},
   "source": [
    "Vi kan nå score disse oppdaterte modellene:"
   ]
  },
  {
   "cell_type": "code",
   "execution_count": null,
   "id": "f979aa64",
   "metadata": {},
   "outputs": [],
   "source": [
    "compare_models(include=[tuned_ada, tuned_lightgbm, tuned_gbc, tuned_catboost, tuned_rf], sort='F1')"
   ]
  },
  {
   "cell_type": "markdown",
   "id": "b1db230b",
   "metadata": {},
   "source": [
    "Disse scores kan sammenlignes med det vi fant over da vi brukte default-parametre. Merk at `tune_model` bruker `RandomizedSearchCV` fra scikit-learn som default-søk. Det er derfor ikke sikkert at vi finner bedre hyperparametre enn default i løpet av søket. "
   ]
  },
  {
   "cell_type": "markdown",
   "id": "347a82a9-1c23-48cd-8e42-2dcb6c228003",
   "metadata": {},
   "source": [
    "# Ensembling"
   ]
  },
  {
   "cell_type": "markdown",
   "id": "3976758d",
   "metadata": {},
   "source": [
    "Som vi har sett kan en ofte kombinere modeller slik at kombinasjonen blir bedre enn hver enkelt modell. Vi har fokusert på \"voting ensembles\", men det finnes en rekke måter å gjøre dette på. I PyCaret kan vi bruke `blend_models` til å konstruere voting ensembles. La oss bruke de tre beste modellene etter tuning:"
   ]
  },
  {
   "cell_type": "code",
   "execution_count": null,
   "id": "e092b139",
   "metadata": {},
   "outputs": [],
   "source": [
    "best_models = [tuned_rf, tuned_lightgbm, tuned_gbc]"
   ]
  },
  {
   "cell_type": "code",
   "execution_count": null,
   "id": "de7b87b1",
   "metadata": {},
   "outputs": [],
   "source": [
    "voting_soft = blend_models(best_models, method='soft', optimize='F1')"
   ]
  },
  {
   "cell_type": "code",
   "execution_count": null,
   "id": "a38562fb",
   "metadata": {},
   "outputs": [],
   "source": [
    "voting_hard = blend_models(best_models, method='hard', optimize='F1')"
   ]
  },
  {
   "cell_type": "markdown",
   "id": "37e6c23c",
   "metadata": {},
   "source": [
    "Som nevnt kan en også trene en såkalt \"blender\" på toppen av prediksjonene til et sett med modeller, for slik å kunne anvende mer kompliserte sammenhenger enn i et voting ensemble:"
   ]
  },
  {
   "cell_type": "code",
   "execution_count": null,
   "id": "a1492806-d8d2-42ba-8b62-a5a87734879f",
   "metadata": {},
   "outputs": [],
   "source": [
    "blender = stack_models(estimator_list=best_models, optimize='F1')"
   ]
  },
  {
   "cell_type": "markdown",
   "id": "af24ceb4",
   "metadata": {},
   "source": [
    "I dette tilfellet var det ingen av disse ensembles som var bedre enn den beste enkeltmodellen."
   ]
  },
  {
   "cell_type": "markdown",
   "id": "fb58a8f2-3fb4-43c0-9bd8-faf3f776e361",
   "metadata": {},
   "source": [
    "# Analyser resultatene"
   ]
  },
  {
   "cell_type": "code",
   "execution_count": null,
   "id": "1c80a6aa",
   "metadata": {},
   "outputs": [],
   "source": [
    "%matplotlib inline"
   ]
  },
  {
   "cell_type": "code",
   "execution_count": null,
   "id": "f3c25b5f",
   "metadata": {},
   "outputs": [],
   "source": [
    "model = voting_hard\n",
    "model"
   ]
  },
  {
   "cell_type": "markdown",
   "id": "8753e2e9",
   "metadata": {},
   "source": [
    "### Confusion matrix"
   ]
  },
  {
   "cell_type": "markdown",
   "id": "cb6e25fa",
   "metadata": {},
   "source": [
    "Her er forvirringsmatrisen på de 9769 instansene i test-settet:"
   ]
  },
  {
   "cell_type": "code",
   "execution_count": null,
   "id": "cd8515fa",
   "metadata": {},
   "outputs": [],
   "source": [
    "plot_model(model, 'confusion_matrix')"
   ]
  },
  {
   "cell_type": "markdown",
   "id": "a6c4e4ab",
   "metadata": {},
   "source": [
    "### Errors"
   ]
  },
  {
   "cell_type": "markdown",
   "id": "3ffc4343",
   "metadata": {},
   "source": [
    "Her er et plot av hvilke feil som blir gjort:"
   ]
  },
  {
   "cell_type": "code",
   "execution_count": null,
   "id": "80cd4994",
   "metadata": {},
   "outputs": [],
   "source": [
    "plot_model(model, 'error')"
   ]
  },
  {
   "cell_type": "markdown",
   "id": "4d5f265b",
   "metadata": {},
   "source": [
    "### Precision versus recall"
   ]
  },
  {
   "cell_type": "markdown",
   "id": "0f33ffa4",
   "metadata": {},
   "source": [
    "Som vi har diskutert er det en tradeoff mellom precision og recall (\"bias-variance tradeoff\"). Vi kan visualisere hvor treshold har blitt satt av vår modell:"
   ]
  },
  {
   "cell_type": "code",
   "execution_count": null,
   "id": "0461a9b9",
   "metadata": {},
   "outputs": [],
   "source": [
    "plot_model(best_models[0], 'threshold')"
   ]
  },
  {
   "cell_type": "markdown",
   "id": "f420b296",
   "metadata": {},
   "source": [
    "Hvis en ønsker å endre på dette tresholdet (f.eks. hvis falske positive er verre enn falske negative) kan en bruke metoden `optimize_threshold`."
   ]
  },
  {
   "cell_type": "markdown",
   "id": "dc718b3f",
   "metadata": {},
   "source": [
    "### Feature importance"
   ]
  },
  {
   "cell_type": "markdown",
   "id": "eddfd331",
   "metadata": {},
   "source": [
    "Hvilke features er det modellene lener seg mest på?"
   ]
  },
  {
   "cell_type": "code",
   "execution_count": null,
   "id": "5edbb711",
   "metadata": {},
   "outputs": [],
   "source": [
    "best_models"
   ]
  },
  {
   "cell_type": "code",
   "execution_count": null,
   "id": "8f0b53c5",
   "metadata": {},
   "outputs": [],
   "source": [
    "print(best_models[0])"
   ]
  },
  {
   "cell_type": "code",
   "execution_count": null,
   "id": "3c223394",
   "metadata": {},
   "outputs": [],
   "source": [
    "plot_model(best_models[0], 'feature')"
   ]
  },
  {
   "cell_type": "code",
   "execution_count": null,
   "id": "bb910da0",
   "metadata": {},
   "outputs": [],
   "source": [
    "print(best_models[1])"
   ]
  },
  {
   "cell_type": "code",
   "execution_count": null,
   "id": "ff7b8225",
   "metadata": {},
   "outputs": [],
   "source": [
    "plot_model(best_models[1], 'feature')"
   ]
  },
  {
   "cell_type": "code",
   "execution_count": null,
   "id": "068acdce",
   "metadata": {},
   "outputs": [],
   "source": [
    "print(best_models[2])"
   ]
  },
  {
   "cell_type": "code",
   "execution_count": null,
   "id": "f4f24952",
   "metadata": {},
   "outputs": [],
   "source": [
    "plot_model(best_models[2], 'feature')"
   ]
  },
  {
   "cell_type": "markdown",
   "id": "efb7367f",
   "metadata": {},
   "source": [
    "#### Tolkning av modeller"
   ]
  },
  {
   "cell_type": "markdown",
   "id": "5d791011",
   "metadata": {},
   "source": [
    "Vi kan gå litt dypere inn i hvordan modellene fungerer, for eksempel via [Shapley values](https://christophm.github.io/interpretable-ml-book/shapley.html). "
   ]
  },
  {
   "cell_type": "code",
   "execution_count": null,
   "id": "dd993771",
   "metadata": {},
   "outputs": [],
   "source": [
    "interpret_model(best_models[0], plot='correlation')"
   ]
  },
  {
   "cell_type": "code",
   "execution_count": null,
   "id": "b68002fc",
   "metadata": {},
   "outputs": [],
   "source": [
    "interpret_model(best_models[0])"
   ]
  },
  {
   "cell_type": "markdown",
   "id": "8623183a",
   "metadata": {},
   "source": [
    "# Bruk modell på ny data"
   ]
  },
  {
   "cell_type": "code",
   "execution_count": null,
   "id": "4334ec13",
   "metadata": {
    "scrolled": false
   },
   "outputs": [],
   "source": [
    "# Prediker på test-settet satt til side tidligere\n",
    "y_pred = predict_model(model)"
   ]
  },
  {
   "cell_type": "code",
   "execution_count": null,
   "id": "dd9ada32",
   "metadata": {},
   "outputs": [],
   "source": [
    "y_pred.head()"
   ]
  },
  {
   "cell_type": "markdown",
   "id": "72e48fb3",
   "metadata": {},
   "source": [
    "# Eksporter modell"
   ]
  },
  {
   "cell_type": "markdown",
   "id": "1f61f89a",
   "metadata": {},
   "source": [
    "Når en er ferdig med å konstruere, trene, evaluere og forstå modellene er det tid for å sette modellen ut i drift. En ønsker da å eksportere modellen sammen med hele pipeline for preprosessering til disk eller til en skytjeneste. "
   ]
  },
  {
   "cell_type": "markdown",
   "id": "f53bee2b",
   "metadata": {},
   "source": [
    "Om man skal predikere på helt ny data (dvs. er ferdig med modell-byggingen) så kan man bruke `predict_model` også på denne. Da vil data preprosesseres og kjøres gjennom modellen. \n",
    "\n",
    "MEN: Hittil har vi satt til side data til test. Når en er ferdig med modell-byggingen så er det ikke noe vits å sette data til side. En bør trene modellen på alt en har av labelet data. \n",
    "\n",
    "Dette kan gjøres med `finalize_model`:"
   ]
  },
  {
   "cell_type": "code",
   "execution_count": null,
   "id": "6e57dfa6",
   "metadata": {
    "scrolled": false
   },
   "outputs": [],
   "source": [
    "final_model = finalize_model(model)"
   ]
  },
  {
   "cell_type": "markdown",
   "id": "6d9281ae",
   "metadata": {},
   "source": [
    "Deretter kan vi lagre modellen:"
   ]
  },
  {
   "cell_type": "code",
   "execution_count": null,
   "id": "aef62351",
   "metadata": {},
   "outputs": [],
   "source": [
    "save_model(final_model,'saved_model')"
   ]
  },
  {
   "cell_type": "markdown",
   "id": "b44c5591",
   "metadata": {},
   "source": [
    "## Deploy modell"
   ]
  },
  {
   "cell_type": "markdown",
   "id": "80332b62",
   "metadata": {},
   "source": [
    "PyCaret kan hjelpe med deployment til AWS (https://pycaret.org/deploy-model/), men her er det så mange valgmuligheter at det er vanskelig å ha én oppskrift for alt. "
   ]
  }
 ],
 "metadata": {
  "kernelspec": {
   "display_name": "DAT801-PyCaret",
   "language": "python",
   "name": "dat801-pycaret"
  },
  "language_info": {
   "codemirror_mode": {
    "name": "ipython",
    "version": 3
   },
   "file_extension": ".py",
   "mimetype": "text/x-python",
   "name": "python",
   "nbconvert_exporter": "python",
   "pygments_lexer": "ipython3",
   "version": "3.8.12"
  },
  "toc": {
   "base_numbering": 1,
   "nav_menu": {},
   "number_sections": true,
   "sideBar": true,
   "skip_h1_title": false,
   "title_cell": "Table of Contents",
   "title_sidebar": "Contents",
   "toc_cell": true,
   "toc_position": {},
   "toc_section_display": true,
   "toc_window_display": false
  }
 },
 "nbformat": 4,
 "nbformat_minor": 5
}
