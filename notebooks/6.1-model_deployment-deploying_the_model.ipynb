{
 "cells": [
  {
   "cell_type": "code",
   "execution_count": 1,
   "id": "67ecbb17-90ea-4ab9-8a78-fd04730ec093",
   "metadata": {},
   "outputs": [],
   "source": [
    "# Standard framework\n",
    "import pandas as pd, numpy as np\n",
    "\n",
    "# We'll use bqplot for interactive plotting\n",
    "import bqplot\n",
    "from bqplot import pyplot as plt\n",
    "\n",
    "# For our widgets:\n",
    "import ipywidgets as widgets"
   ]
  },
  {
   "cell_type": "code",
   "execution_count": 2,
   "id": "1d5759ff",
   "metadata": {},
   "outputs": [],
   "source": [
    "# Import the data, the trained model and data preparation pipeline\n",
    "# See the notebook 6.0-model_deployment-create_model \n",
    "# for details"
   ]
  },
  {
   "cell_type": "code",
   "execution_count": 3,
   "id": "03b7df28",
   "metadata": {},
   "outputs": [],
   "source": [
    "from pycaret.datasets import get_data\n",
    "from pycaret.regression import load_model, predict_model"
   ]
  },
  {
   "cell_type": "code",
   "execution_count": 4,
   "id": "e16fe7f7",
   "metadata": {},
   "outputs": [],
   "source": [
    "df = get_data('bike', verbose=False)"
   ]
  },
  {
   "cell_type": "code",
   "execution_count": 5,
   "id": "c3de6175",
   "metadata": {},
   "outputs": [],
   "source": [
    "# For convenience, we change the data types for the two boolean features:\n",
    "df['holiday'] = df['holiday'].astype(bool)\n",
    "df['workingday'] = df['workingday'].astype(bool)"
   ]
  },
  {
   "cell_type": "code",
   "execution_count": 6,
   "id": "3da47238",
   "metadata": {},
   "outputs": [],
   "source": [
    "model = load_model('saved_model_161121', verbose=False)"
   ]
  },
  {
   "cell_type": "code",
   "execution_count": 7,
   "id": "02ff56f0",
   "metadata": {},
   "outputs": [],
   "source": [
    "## Create some widgets for our webapp"
   ]
  },
  {
   "cell_type": "code",
   "execution_count": 8,
   "id": "8956aa03",
   "metadata": {},
   "outputs": [],
   "source": [
    "## Widgets for entering feature values:\n",
    "\n",
    "# Date feature\n",
    "\n",
    "date_widget = widgets.DatePicker(\n",
    "    value = pd.datetime(2011,1,1)\n",
    ")\n",
    "\n",
    "# Boolean features:\n",
    "\n",
    "holiday_widget = widgets.Checkbox(\n",
    "    value=False,\n",
    "    description='Holiday?:',\n",
    "    disabled=False,\n",
    "    style = {'description_width': 'initial'},\n",
    "    layout=widgets.Layout(width='80%')\n",
    ")\n",
    "\n",
    "workingday_widget = widgets.Checkbox(\n",
    "    value=True,\n",
    "    description='Working day?:',\n",
    "    disabled=False,\n",
    "    style = {'description_width': 'initial'},\n",
    "    layout=widgets.Layout(width='80%')\n",
    ")\n",
    "\n",
    "# Numerical features\n",
    "\n",
    "season_widget = widgets.Dropdown(\n",
    "    options = [('Winter', 1), ('Spring',2), ('Summer',3), ('Fall',4)],\n",
    "    value = 1,\n",
    "    description = \"Season\",\n",
    "    disabled = False,\n",
    "    style = {'description_width': 'initial'},\n",
    "    layout=widgets.Layout(width='80%')    \n",
    "    \n",
    ")\n",
    "\n",
    "year_widget = widgets.Dropdown(\n",
    "    options = [('2011',0), ('2012', 1)],\n",
    "    value = 0,\n",
    "    description = \"Year\",\n",
    "    disabled = False,\n",
    "    style = {'description_width': 'initial'},\n",
    "    layout=widgets.Layout(width='80%')    \n",
    "    \n",
    ")\n",
    "\n",
    "month_widget = widgets.Dropdown(\n",
    "    options = range(1,13),\n",
    "    value = 1,\n",
    "    description='Month 1-12',\n",
    "    disabled=False,\n",
    "    style = {'description_width': 'initial'},\n",
    "    layout=widgets.Layout(width='80%')\n",
    ")\n",
    "\n",
    "hr_widget = widgets.Dropdown(\n",
    "    options = range(24),\n",
    "    value=0,\n",
    "    description='Hour 0-23',\n",
    "    disabled=False,\n",
    "    style = {'description_width': 'initial'},\n",
    "    layout=widgets.Layout(width='80%')\n",
    ")\n",
    "\n",
    "weekday_widget = widgets.Dropdown(\n",
    "    options = range(7),\n",
    "    value = 6,\n",
    "    description = \"Weekday\",\n",
    "    disabled = False,\n",
    "    style = {'description_width': 'initial'},\n",
    "    layout=widgets.Layout(width='80%')    \n",
    "       \n",
    ")\n",
    "\n",
    "weather_widget = widgets.Dropdown(\n",
    "    options = [('Clear, Few clouds, Partly cloudy, Partly cloudy', 1), \n",
    "               ('Mist + Cloudy, Mist + Broken clouds, Mist + Few clouds, Mist', 2), \n",
    "               ('Light Snow, Light Rain + Thunderstorm + Scattered clouds, Light Rain + Scattered clouds', 3),\n",
    "               ('Heavy Rain + Ice Pallets + Thunderstorm + Mist, Snow + Fog', 4)],\n",
    "    value = 1,\n",
    "    description = \"Weather\",\n",
    "    disabled = False,\n",
    "    style = {'description_width': 'initial'},\n",
    "    layout=widgets.Layout(width='80%')    \n",
    "       \n",
    ")\n",
    "\n",
    "temp_widget = widgets.BoundedFloatText(\n",
    "    value = 0.24,\n",
    "    min=0.,\n",
    "    max=1.,\n",
    "    description = 'Normalized temperature in Celsius',\n",
    "    disabled=False,\n",
    "    style = {'description_width': 'initial'},\n",
    "    layout=widgets.Layout(width='80%')    \n",
    ")\n",
    "\n",
    "\n",
    "atemp_widget = widgets.BoundedFloatText(\n",
    "    value = 0.28,\n",
    "    min=0.,\n",
    "    max=1.,\n",
    "    description = 'Normalized feeling temperature in Celsius',\n",
    "    disabled=False,\n",
    "    style = {'description_width': 'initial'},\n",
    "    layout=widgets.Layout(width='80%')    \n",
    ")\n",
    "\n",
    "hum_widget = widgets.BoundedFloatText(\n",
    "    value = 0.81,\n",
    "    min = 0.,\n",
    "    max = 1.,\n",
    "    description = 'Normalized humidity',\n",
    "    disabled=False,\n",
    "    style = {'description_width': 'initial'},\n",
    "    layout=widgets.Layout(width='80%')    \n",
    ")\n",
    "\n",
    "windspeed_widget = widgets.BoundedFloatText(\n",
    "    value = 0.,\n",
    "    min = 0.,\n",
    "    max = 1.,\n",
    "    description = 'Normalized windspeed',\n",
    "    disabled=False,\n",
    "    style = {'description_width': 'initial'},\n",
    "    layout=widgets.Layout(width='80%')    \n",
    ")\n",
    "\n",
    "\n",
    "all_widgets = [\n",
    "    \n",
    "    date_widget,\n",
    "    holiday_widget,\n",
    "    workingday_widget,\n",
    "    season_widget,\n",
    "    year_widget,\n",
    "    month_widget,\n",
    "    hr_widget,\n",
    "    weekday_widget,\n",
    "    weather_widget,\n",
    "    temp_widget,\n",
    "    atemp_widget,\n",
    "    hum_widget,\n",
    "    windspeed_widget    \n",
    "]"
   ]
  },
  {
   "cell_type": "code",
   "execution_count": 9,
   "id": "bb069355",
   "metadata": {
    "scrolled": false
   },
   "outputs": [],
   "source": [
    "# We also want to display some plots showing features of the training data:\n",
    "\n",
    "feature = widgets.SelectMultiple(\n",
    "    options = df.columns[2:], # Drop the instant value and the date\n",
    "    value = ['cnt'],\n",
    "    description='Feature',\n",
    "    disabled=False,\n",
    "    layout = widgets.Layout(width='50%', height='80px')\n",
    ")"
   ]
  },
  {
   "cell_type": "code",
   "execution_count": 10,
   "id": "dfcb0a66",
   "metadata": {},
   "outputs": [],
   "source": [
    "# A function to display the plots\n",
    "def update_plots(feature):\n",
    "    selected_values = list(feature)\n",
    "\n",
    "    # If one boolean feature is selected, show a bar chart\n",
    "    if (len(selected_values) < 2) and (len(df[selected_values].value_counts())==2):\n",
    "        fig = plt.figure(title=selected_values[0])\n",
    "        plt.bar(x=[str(i) for i in np.unique(df[selected_values])], y=df[selected_values].value_counts().values)\n",
    "        plt.show()\n",
    "    \n",
    "    # If one numerical feature is selected, show a histogram\n",
    "    elif (len(selected_values) < 2) and (df[selected_values[0]].dtype==np.int64):\n",
    "        fig = plt.figure(title=selected_values[0])\n",
    "        plt.hist(df[selected_values].values)\n",
    "        plt.show()\n",
    "        \n",
    "    # If two numerical features are selected, show a scatter plot\n",
    "    elif len(selected_values) == 2 and (df[selected_values[0]].dtype==float and df[selected_values[1]].dtype==float):\n",
    "        df[selected_values].plot(x=selected_values[0], y=selected_values[1], \n",
    "                                 kind='scatter', title=f'{selected_values[0]} versus {selected_values[1]}',\n",
    "                                figsize=(6,6))\n",
    "        \n",
    "    return None"
   ]
  },
  {
   "cell_type": "code",
   "execution_count": 11,
   "id": "693546d7",
   "metadata": {},
   "outputs": [],
   "source": [
    "# A function to output the selected feature values\n",
    "from IPython.core.display import HTML\n",
    "def selected_feature_values(dteday, season, yr, mnth, hr, holiday, weekday, \n",
    "                             workingday, weathersit, temp, atemp, hum, windspeed, instant=1):\n",
    "    \n",
    "    html = f\"\"\" <h4>Your Selections:</h4>\n",
    "        <ul style=\"line-height: 1.5\">\n",
    "            <li>Date: {dteday}</li>\n",
    "            <li>Season: {season}</li>\n",
    "            <li>Year: {yr}</li>\n",
    "            <li>Month: {mnth}</li>\n",
    "            <li>Hour: {hr}</li>\n",
    "            <li>Holiday status: {holiday}</li>\n",
    "            <li>Weekday: {weekday}</li>\n",
    "            <li>Working day status: {workingday}</li>\n",
    "            <li>Weather situation: {weathersit}</li>\n",
    "            <li>Temperature: {temp}</li>\n",
    "            <li>Felt temperature: {atemp}</li>\n",
    "            <li>Humidity: {hum}</li>\n",
    "            <li>Windspeed: {windspeed}</li>            \n",
    "        </ul>\n",
    "        <BR>\n",
    "        \"\"\"\n",
    "    display(HTML(html))"
   ]
  },
  {
   "cell_type": "code",
   "execution_count": 12,
   "id": "d4d11a5e",
   "metadata": {},
   "outputs": [],
   "source": [
    "# A function to output the prediction for the selected feature values\n",
    "from IPython.core.display import HTML\n",
    "def get_pred(dteday, season, yr, mnth, hr, holiday, weekday, \n",
    "                             workingday, weathersit, temp, atemp, hum, windspeed, instant=1, cnt=99):\n",
    "    \n",
    "    \n",
    "    pred_df = pd.DataFrame([{\n",
    "        'dteday': dteday,\n",
    "        'season': season, \n",
    "        'yr': yr, \n",
    "        'mnth': mnth, \n",
    "        'hr': hr, \n",
    "        'holiday':holiday, \n",
    "        'weekday': weekday,                    \n",
    "        'workingday':workingday, \n",
    "        'weathersit':weathersit, \n",
    "        'temp':temp, \n",
    "        'atemp':atemp, \n",
    "        'hum':hum, \n",
    "        'windspeed':windspeed, \n",
    "        'instant':-1, \n",
    "    }])\n",
    "    \n",
    "\n",
    "    pred = predict_model(model, data=pred_df)\n",
    "    \n",
    "    html = f\"\"\"  \n",
    "      <hr>\n",
    "      The model predicts that there will be {round(pred.Label.values[0],2)} trips taken\n",
    "\n",
    "    \"\"\"\n",
    "    display(HTML(html))"
   ]
  },
  {
   "cell_type": "code",
   "execution_count": 13,
   "id": "d8c5c411",
   "metadata": {},
   "outputs": [],
   "source": [
    "selected = widgets.interactive_output(\n",
    "    selected_feature_values, \n",
    "    {\n",
    "    'dteday': date_widget,\n",
    "    'holiday':holiday_widget,\n",
    "    'workingday':workingday_widget,\n",
    "    'season':season_widget,\n",
    "    'yr':year_widget,\n",
    "    'mnth':month_widget,\n",
    "    'hr':hr_widget,\n",
    "    'weekday':weekday_widget,\n",
    "    'weathersit':weather_widget,\n",
    "    'temp':temp_widget,\n",
    "    'atemp':atemp_widget,\n",
    "    'hum':hum_widget,\n",
    "    'windspeed':windspeed_widget \n",
    "    }\n",
    ")"
   ]
  },
  {
   "cell_type": "code",
   "execution_count": 14,
   "id": "8b91a99e",
   "metadata": {},
   "outputs": [],
   "source": [
    "prediction = widgets.interactive_output(\n",
    "    get_pred, \n",
    "    {\n",
    "    'dteday': date_widget,\n",
    "    'holiday':holiday_widget,\n",
    "    'workingday':workingday_widget,\n",
    "    'season':season_widget,\n",
    "    'yr':year_widget,\n",
    "    'mnth':month_widget,\n",
    "    'hr':hr_widget,\n",
    "    'weekday':weekday_widget,\n",
    "    'weathersit':weather_widget,\n",
    "    'temp':temp_widget,\n",
    "    'atemp':atemp_widget,\n",
    "    'hum':hum_widget,\n",
    "    'windspeed':windspeed_widget \n",
    "    }\n",
    ")"
   ]
  },
  {
   "cell_type": "code",
   "execution_count": 15,
   "id": "bc3c0ae7",
   "metadata": {},
   "outputs": [],
   "source": [
    "# Deploy the model"
   ]
  },
  {
   "cell_type": "code",
   "execution_count": 16,
   "id": "fb8dc500-3f9d-4bdf-a484-81e2742e4a3d",
   "metadata": {},
   "outputs": [],
   "source": [
    "title_html = f\"\"\"\n",
    "<h2>Bike-sharing demo app</h2>\n",
    "Several features are used to predict the number of bikes used. \n",
    "\"\"\"\n",
    "\n",
    "feature_values_html = f\"\"\"\n",
    "<hr>\n",
    "<h3> Enter the feature values here:</h3> \n",
    "\"\"\"\n",
    "\n",
    "plots_html = f\"\"\"\n",
    "<hr>\n",
    "<h3> Investigate training data</h3>\n",
    "You can investigate the values of the features used to train the model here: \n",
    "\"\"\"\n",
    "\n",
    "pred_html = f\"\"\"\n",
    "<hr>\n",
    "<h3>Model prediction:</h3>\n",
    "\"\"\""
   ]
  },
  {
   "cell_type": "code",
   "execution_count": 17,
   "id": "0307c88f",
   "metadata": {},
   "outputs": [],
   "source": [
    "appcont = [widgets.HTML(title_html, \n",
    "                        layout=widgets.Layout(margin='0 0 3em 0', max_width='1000px')),\n",
    "          widgets.HTML(feature_values_html, \n",
    "                        layout=widgets.Layout(margin='0 0 3em 0', max_width='1000px'))]"
   ]
  },
  {
   "cell_type": "code",
   "execution_count": 18,
   "id": "85c36ff1",
   "metadata": {},
   "outputs": [],
   "source": [
    "app = widgets.VBox(appcont)"
   ]
  },
  {
   "cell_type": "code",
   "execution_count": 19,
   "id": "90b7cbff",
   "metadata": {
    "scrolled": false
   },
   "outputs": [
    {
     "data": {
      "application/vnd.jupyter.widget-view+json": {
       "model_id": "8643f994f77c42a986be3871b4200b27",
       "version_major": 2,
       "version_minor": 0
      },
      "text/plain": [
       "VBox(children=(HTML(value='\\n<h2>Bike-sharing demo app</h2>\\nSeveral features are used to predict the number o…"
      ]
     },
     "metadata": {},
     "output_type": "display_data"
    }
   ],
   "source": [
    "display(app)"
   ]
  },
  {
   "cell_type": "code",
   "execution_count": 20,
   "id": "82c35887",
   "metadata": {},
   "outputs": [
    {
     "data": {
      "application/vnd.jupyter.widget-view+json": {
       "model_id": "484ffc1d056f402eba7cbb7f69d92f06",
       "version_major": 2,
       "version_minor": 0
      },
      "text/plain": [
       "DatePicker(value=datetime.datetime(2011, 1, 1, 0, 0))"
      ]
     },
     "metadata": {},
     "output_type": "display_data"
    },
    {
     "data": {
      "application/vnd.jupyter.widget-view+json": {
       "model_id": "af01483554b342fea74c18f35a901122",
       "version_major": 2,
       "version_minor": 0
      },
      "text/plain": [
       "Checkbox(value=False, description='Holiday?:', layout=Layout(width='80%'), style=DescriptionStyle(description_…"
      ]
     },
     "metadata": {},
     "output_type": "display_data"
    },
    {
     "data": {
      "application/vnd.jupyter.widget-view+json": {
       "model_id": "b5c7897547eb44508aa63643337d5066",
       "version_major": 2,
       "version_minor": 0
      },
      "text/plain": [
       "Checkbox(value=True, description='Working day?:', layout=Layout(width='80%'), style=DescriptionStyle(descripti…"
      ]
     },
     "metadata": {},
     "output_type": "display_data"
    },
    {
     "data": {
      "application/vnd.jupyter.widget-view+json": {
       "model_id": "6d6cbe121c104a9aad4109d8204aa2f0",
       "version_major": 2,
       "version_minor": 0
      },
      "text/plain": [
       "Dropdown(description='Season', layout=Layout(width='80%'), options=(('Winter', 1), ('Spring', 2), ('Summer', 3…"
      ]
     },
     "metadata": {},
     "output_type": "display_data"
    },
    {
     "data": {
      "application/vnd.jupyter.widget-view+json": {
       "model_id": "b51aba7b5b364d28aa3043e8ba2c5142",
       "version_major": 2,
       "version_minor": 0
      },
      "text/plain": [
       "Dropdown(description='Year', layout=Layout(width='80%'), options=(('2011', 0), ('2012', 1)), style=Description…"
      ]
     },
     "metadata": {},
     "output_type": "display_data"
    },
    {
     "data": {
      "application/vnd.jupyter.widget-view+json": {
       "model_id": "8bf592cb6656456181ad259e3e7b704d",
       "version_major": 2,
       "version_minor": 0
      },
      "text/plain": [
       "Dropdown(description='Month 1-12', layout=Layout(width='80%'), options=(1, 2, 3, 4, 5, 6, 7, 8, 9, 10, 11, 12)…"
      ]
     },
     "metadata": {},
     "output_type": "display_data"
    },
    {
     "data": {
      "application/vnd.jupyter.widget-view+json": {
       "model_id": "8ee49ba93f9f43659eb2ca74df99430e",
       "version_major": 2,
       "version_minor": 0
      },
      "text/plain": [
       "Dropdown(description='Hour 0-23', layout=Layout(width='80%'), options=(0, 1, 2, 3, 4, 5, 6, 7, 8, 9, 10, 11, 1…"
      ]
     },
     "metadata": {},
     "output_type": "display_data"
    },
    {
     "data": {
      "application/vnd.jupyter.widget-view+json": {
       "model_id": "01c23a67fd4b46f4b8f3071d953dc730",
       "version_major": 2,
       "version_minor": 0
      },
      "text/plain": [
       "Dropdown(description='Weekday', index=6, layout=Layout(width='80%'), options=(0, 1, 2, 3, 4, 5, 6), style=Desc…"
      ]
     },
     "metadata": {},
     "output_type": "display_data"
    },
    {
     "data": {
      "application/vnd.jupyter.widget-view+json": {
       "model_id": "fabe699c4b86440993a68b4b14f1ff66",
       "version_major": 2,
       "version_minor": 0
      },
      "text/plain": [
       "Dropdown(description='Weather', layout=Layout(width='80%'), options=(('Clear, Few clouds, Partly cloudy, Partl…"
      ]
     },
     "metadata": {},
     "output_type": "display_data"
    },
    {
     "data": {
      "application/vnd.jupyter.widget-view+json": {
       "model_id": "eff8d49a85c5402ebef052196ea6890e",
       "version_major": 2,
       "version_minor": 0
      },
      "text/plain": [
       "BoundedFloatText(value=0.24, description='Normalized temperature in Celsius', layout=Layout(width='80%'), max=…"
      ]
     },
     "metadata": {},
     "output_type": "display_data"
    },
    {
     "data": {
      "application/vnd.jupyter.widget-view+json": {
       "model_id": "a50feb32d2bb4cc8976c50a2cbb8909b",
       "version_major": 2,
       "version_minor": 0
      },
      "text/plain": [
       "BoundedFloatText(value=0.28, description='Normalized feeling temperature in Celsius', layout=Layout(width='80%…"
      ]
     },
     "metadata": {},
     "output_type": "display_data"
    },
    {
     "data": {
      "application/vnd.jupyter.widget-view+json": {
       "model_id": "6d787f7beba249f284ce1be43da4e7e0",
       "version_major": 2,
       "version_minor": 0
      },
      "text/plain": [
       "BoundedFloatText(value=0.81, description='Normalized humidity', layout=Layout(width='80%'), max=1.0, style=Des…"
      ]
     },
     "metadata": {},
     "output_type": "display_data"
    },
    {
     "data": {
      "application/vnd.jupyter.widget-view+json": {
       "model_id": "504dc39155324936a4b25bd514b3e9da",
       "version_major": 2,
       "version_minor": 0
      },
      "text/plain": [
       "BoundedFloatText(value=0.0, description='Normalized windspeed', layout=Layout(width='80%'), max=1.0, style=Des…"
      ]
     },
     "metadata": {},
     "output_type": "display_data"
    }
   ],
   "source": [
    "for w in all_widgets:\n",
    "    display(w)"
   ]
  },
  {
   "cell_type": "code",
   "execution_count": 21,
   "id": "96bf9653",
   "metadata": {},
   "outputs": [
    {
     "data": {
      "application/vnd.jupyter.widget-view+json": {
       "model_id": "1b692eed31fe4e288f85021375a8caf3",
       "version_major": 2,
       "version_minor": 0
      },
      "text/plain": [
       "Output()"
      ]
     },
     "metadata": {},
     "output_type": "display_data"
    }
   ],
   "source": [
    "display(selected)"
   ]
  },
  {
   "cell_type": "code",
   "execution_count": 22,
   "id": "289c1978",
   "metadata": {},
   "outputs": [
    {
     "data": {
      "application/vnd.jupyter.widget-view+json": {
       "model_id": "bc157f4f02294fc2bfc50c3ad71c0b50",
       "version_major": 2,
       "version_minor": 0
      },
      "text/plain": [
       "HTML(value='\\n<hr>\\n<h3>Model prediction:</h3>\\n', layout=Layout(margin='0 0 3em 0', max_width='1000px'))"
      ]
     },
     "metadata": {},
     "output_type": "display_data"
    }
   ],
   "source": [
    "display(widgets.HTML(pred_html, \n",
    "                        layout=widgets.Layout(margin='0 0 3em 0', max_width='1000px')))"
   ]
  },
  {
   "cell_type": "code",
   "execution_count": 23,
   "id": "463f1376",
   "metadata": {},
   "outputs": [
    {
     "data": {
      "application/vnd.jupyter.widget-view+json": {
       "model_id": "0ea51576db4c497eb0eddb978be4d5d5",
       "version_major": 2,
       "version_minor": 0
      },
      "text/plain": [
       "Output()"
      ]
     },
     "metadata": {},
     "output_type": "display_data"
    }
   ],
   "source": [
    "display(prediction)"
   ]
  },
  {
   "cell_type": "code",
   "execution_count": 24,
   "id": "5aa0cf0f",
   "metadata": {
    "scrolled": false
   },
   "outputs": [
    {
     "data": {
      "application/vnd.jupyter.widget-view+json": {
       "model_id": "b9c0d6f95e524ed891ecd57097a8cddd",
       "version_major": 2,
       "version_minor": 0
      },
      "text/plain": [
       "HTML(value='\\n<hr>\\n<h3> Investigate training data</h3>\\nYou can investigate the values of the features used t…"
      ]
     },
     "metadata": {},
     "output_type": "display_data"
    }
   ],
   "source": [
    "display(widgets.HTML(plots_html, \n",
    "                        layout=widgets.Layout(margin='0 0 3em 0', max_width='1000px')))"
   ]
  },
  {
   "cell_type": "code",
   "execution_count": 25,
   "id": "369637e4",
   "metadata": {},
   "outputs": [
    {
     "data": {
      "application/vnd.jupyter.widget-view+json": {
       "model_id": "0369d48d5d0c4546a8596b782126f570",
       "version_major": 2,
       "version_minor": 0
      },
      "text/plain": [
       "interactive(children=(SelectMultiple(description='Feature', index=(12,), layout=Layout(height='80px', width='5…"
      ]
     },
     "metadata": {},
     "output_type": "display_data"
    }
   ],
   "source": [
    "widgets.interactive(update_plots, feature=feature)"
   ]
  }
 ],
 "metadata": {
  "kernelspec": {
   "display_name": "DAT801-deployment",
   "language": "python",
   "name": "dat801-deployment"
  },
  "language_info": {
   "codemirror_mode": {
    "name": "ipython",
    "version": 3
   },
   "file_extension": ".py",
   "mimetype": "text/x-python",
   "name": "python",
   "nbconvert_exporter": "python",
   "pygments_lexer": "ipython3",
   "version": "3.8.12"
  },
  "toc": {
   "base_numbering": 1,
   "nav_menu": {},
   "number_sections": true,
   "sideBar": true,
   "skip_h1_title": false,
   "title_cell": "Table of Contents",
   "title_sidebar": "Contents",
   "toc_cell": true,
   "toc_position": {},
   "toc_section_display": true,
   "toc_window_display": false
  }
 },
 "nbformat": 4,
 "nbformat_minor": 5
}
