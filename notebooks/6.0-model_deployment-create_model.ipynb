{
 "cells": [
  {
   "cell_type": "markdown",
   "id": "3e3a94ef",
   "metadata": {},
   "source": [
    "# Introduction"
   ]
  },
  {
   "cell_type": "markdown",
   "id": "040458f0",
   "metadata": {},
   "source": [
    "In this notebook we'll use PyCaret to create and save a model. In the next notebook we'll deploy the model by creating a simple web app."
   ]
  },
  {
   "cell_type": "markdown",
   "id": "4466e326",
   "metadata": {},
   "source": [
    "# Get the data"
   ]
  },
  {
   "cell_type": "code",
   "execution_count": 1,
   "id": "85236263",
   "metadata": {},
   "outputs": [],
   "source": [
    "from pycaret.datasets import get_data"
   ]
  },
  {
   "cell_type": "markdown",
   "id": "3c9ceaec",
   "metadata": {},
   "source": [
    "Here's a list of the data in the PyCaret repository. Remember that you could of course load the data from a CSV file or similar. "
   ]
  },
  {
   "cell_type": "code",
   "execution_count": 2,
   "id": "c017a2ee",
   "metadata": {
    "scrolled": true
   },
   "outputs": [],
   "source": [
    "#_ = get_data()"
   ]
  },
  {
   "cell_type": "markdown",
   "id": "485ade65",
   "metadata": {},
   "source": [
    "Let's select the `bike` data set. It's a bike-sharing data set where the goal is to predict the number of bike rentals given a set of features. See here for a description: https://archive.ics.uci.edu/ml/datasets/bike+sharing+dataset. "
   ]
  },
  {
   "cell_type": "code",
   "execution_count": 3,
   "id": "2c6f2471",
   "metadata": {},
   "outputs": [
    {
     "data": {
      "text/html": [
       "<div>\n",
       "<style scoped>\n",
       "    .dataframe tbody tr th:only-of-type {\n",
       "        vertical-align: middle;\n",
       "    }\n",
       "\n",
       "    .dataframe tbody tr th {\n",
       "        vertical-align: top;\n",
       "    }\n",
       "\n",
       "    .dataframe thead th {\n",
       "        text-align: right;\n",
       "    }\n",
       "</style>\n",
       "<table border=\"1\" class=\"dataframe\">\n",
       "  <thead>\n",
       "    <tr style=\"text-align: right;\">\n",
       "      <th></th>\n",
       "      <th>instant</th>\n",
       "      <th>dteday</th>\n",
       "      <th>season</th>\n",
       "      <th>yr</th>\n",
       "      <th>mnth</th>\n",
       "      <th>hr</th>\n",
       "      <th>holiday</th>\n",
       "      <th>weekday</th>\n",
       "      <th>workingday</th>\n",
       "      <th>weathersit</th>\n",
       "      <th>temp</th>\n",
       "      <th>atemp</th>\n",
       "      <th>hum</th>\n",
       "      <th>windspeed</th>\n",
       "      <th>cnt</th>\n",
       "    </tr>\n",
       "  </thead>\n",
       "  <tbody>\n",
       "    <tr>\n",
       "      <th>0</th>\n",
       "      <td>1</td>\n",
       "      <td>1/1/2011</td>\n",
       "      <td>1</td>\n",
       "      <td>0</td>\n",
       "      <td>1</td>\n",
       "      <td>0</td>\n",
       "      <td>0</td>\n",
       "      <td>6</td>\n",
       "      <td>0</td>\n",
       "      <td>1</td>\n",
       "      <td>0.24</td>\n",
       "      <td>0.2879</td>\n",
       "      <td>0.81</td>\n",
       "      <td>0.0</td>\n",
       "      <td>16</td>\n",
       "    </tr>\n",
       "    <tr>\n",
       "      <th>1</th>\n",
       "      <td>2</td>\n",
       "      <td>1/1/2011</td>\n",
       "      <td>1</td>\n",
       "      <td>0</td>\n",
       "      <td>1</td>\n",
       "      <td>1</td>\n",
       "      <td>0</td>\n",
       "      <td>6</td>\n",
       "      <td>0</td>\n",
       "      <td>1</td>\n",
       "      <td>0.22</td>\n",
       "      <td>0.2727</td>\n",
       "      <td>0.80</td>\n",
       "      <td>0.0</td>\n",
       "      <td>40</td>\n",
       "    </tr>\n",
       "    <tr>\n",
       "      <th>2</th>\n",
       "      <td>3</td>\n",
       "      <td>1/1/2011</td>\n",
       "      <td>1</td>\n",
       "      <td>0</td>\n",
       "      <td>1</td>\n",
       "      <td>2</td>\n",
       "      <td>0</td>\n",
       "      <td>6</td>\n",
       "      <td>0</td>\n",
       "      <td>1</td>\n",
       "      <td>0.22</td>\n",
       "      <td>0.2727</td>\n",
       "      <td>0.80</td>\n",
       "      <td>0.0</td>\n",
       "      <td>32</td>\n",
       "    </tr>\n",
       "    <tr>\n",
       "      <th>3</th>\n",
       "      <td>4</td>\n",
       "      <td>1/1/2011</td>\n",
       "      <td>1</td>\n",
       "      <td>0</td>\n",
       "      <td>1</td>\n",
       "      <td>3</td>\n",
       "      <td>0</td>\n",
       "      <td>6</td>\n",
       "      <td>0</td>\n",
       "      <td>1</td>\n",
       "      <td>0.24</td>\n",
       "      <td>0.2879</td>\n",
       "      <td>0.75</td>\n",
       "      <td>0.0</td>\n",
       "      <td>13</td>\n",
       "    </tr>\n",
       "    <tr>\n",
       "      <th>4</th>\n",
       "      <td>5</td>\n",
       "      <td>1/1/2011</td>\n",
       "      <td>1</td>\n",
       "      <td>0</td>\n",
       "      <td>1</td>\n",
       "      <td>4</td>\n",
       "      <td>0</td>\n",
       "      <td>6</td>\n",
       "      <td>0</td>\n",
       "      <td>1</td>\n",
       "      <td>0.24</td>\n",
       "      <td>0.2879</td>\n",
       "      <td>0.75</td>\n",
       "      <td>0.0</td>\n",
       "      <td>1</td>\n",
       "    </tr>\n",
       "  </tbody>\n",
       "</table>\n",
       "</div>"
      ],
      "text/plain": [
       "   instant    dteday  season  yr  mnth  hr  holiday  weekday  workingday  \\\n",
       "0        1  1/1/2011       1   0     1   0        0        6           0   \n",
       "1        2  1/1/2011       1   0     1   1        0        6           0   \n",
       "2        3  1/1/2011       1   0     1   2        0        6           0   \n",
       "3        4  1/1/2011       1   0     1   3        0        6           0   \n",
       "4        5  1/1/2011       1   0     1   4        0        6           0   \n",
       "\n",
       "   weathersit  temp   atemp   hum  windspeed  cnt  \n",
       "0           1  0.24  0.2879  0.81        0.0   16  \n",
       "1           1  0.22  0.2727  0.80        0.0   40  \n",
       "2           1  0.22  0.2727  0.80        0.0   32  \n",
       "3           1  0.24  0.2879  0.75        0.0   13  \n",
       "4           1  0.24  0.2879  0.75        0.0    1  "
      ]
     },
     "metadata": {},
     "output_type": "display_data"
    }
   ],
   "source": [
    "df = get_data('bike')"
   ]
  },
  {
   "cell_type": "code",
   "execution_count": 4,
   "id": "899dc1bd",
   "metadata": {},
   "outputs": [
    {
     "name": "stdout",
     "output_type": "stream",
     "text": [
      "<class 'pandas.core.frame.DataFrame'>\n",
      "RangeIndex: 17379 entries, 0 to 17378\n",
      "Data columns (total 15 columns):\n",
      " #   Column      Non-Null Count  Dtype  \n",
      "---  ------      --------------  -----  \n",
      " 0   instant     17379 non-null  int64  \n",
      " 1   dteday      17379 non-null  object \n",
      " 2   season      17379 non-null  int64  \n",
      " 3   yr          17379 non-null  int64  \n",
      " 4   mnth        17379 non-null  int64  \n",
      " 5   hr          17379 non-null  int64  \n",
      " 6   holiday     17379 non-null  int64  \n",
      " 7   weekday     17379 non-null  int64  \n",
      " 8   workingday  17379 non-null  int64  \n",
      " 9   weathersit  17379 non-null  int64  \n",
      " 10  temp        17379 non-null  float64\n",
      " 11  atemp       17379 non-null  float64\n",
      " 12  hum         17379 non-null  float64\n",
      " 13  windspeed   17379 non-null  float64\n",
      " 14  cnt         17379 non-null  int64  \n",
      "dtypes: float64(4), int64(10), object(1)\n",
      "memory usage: 2.0+ MB\n"
     ]
    }
   ],
   "source": [
    "df.info()"
   ]
  },
  {
   "cell_type": "markdown",
   "id": "0b82ad43",
   "metadata": {},
   "source": [
    "Here's a description of the features, copied from https://archive.ics.uci.edu/ml/datasets/bike+sharing+dataset. "
   ]
  },
  {
   "cell_type": "markdown",
   "id": "7b5658a0",
   "metadata": {},
   "source": [
    "```\n",
    "- instant: record index\n",
    "- dteday : date\n",
    "- season : season (1:winter, 2:spring, 3:summer, 4:fall)\n",
    "- yr : year (0: 2011, 1:2012)\n",
    "- mnth : month ( 1 to 12)\n",
    "- hr : hour (0 to 23)\n",
    "- holiday : weather day is holiday or not (extracted from [Web Link])\n",
    "- weekday : day of the week\n",
    "- workingday : if day is neither weekend nor holiday is 1, otherwise is 0.\n",
    "+ weathersit :\n",
    "- 1: Clear, Few clouds, Partly cloudy, Partly cloudy\n",
    "- 2: Mist + Cloudy, Mist + Broken clouds, Mist + Few clouds, Mist\n",
    "- 3: Light Snow, Light Rain + Thunderstorm + Scattered clouds, Light Rain + Scattered clouds\n",
    "- 4: Heavy Rain + Ice Pallets + Thunderstorm + Mist, Snow + Fog\n",
    "- temp : Normalized temperature in Celsius. The values are derived via (t-t_min)/(t_max-t_min), t_min=-8, t_max=+39 (only in hourly scale)\n",
    "- atemp: Normalized feeling temperature in Celsius. The values are derived via (t-t_min)/(t_max-t_min), t_min=-16, t_max=+50 (only in hourly scale)\n",
    "- hum: Normalized humidity. The values are divided to 100 (max)\n",
    "- windspeed: Normalized wind speed. The values are divided to 67 (max)\n",
    "- casual: count of casual users\n",
    "- registered: count of registered users\n",
    "- cnt: count of total rental bikes including both casual and registered \n",
    "```"
   ]
  },
  {
   "cell_type": "markdown",
   "id": "d57c00df",
   "metadata": {},
   "source": [
    "What's the distribution of bike rental counts?"
   ]
  },
  {
   "cell_type": "code",
   "execution_count": 5,
   "id": "aa348cf9",
   "metadata": {},
   "outputs": [
    {
     "data": {
      "text/plain": [
       "<AxesSubplot:>"
      ]
     },
     "execution_count": 5,
     "metadata": {},
     "output_type": "execute_result"
    },
    {
     "data": {
      "image/png": "[encoded data removed]",
      "text/plain": [
       "<Figure size 432x288 with 1 Axes>"
      ]
     },
     "metadata": {
      "needs_background": "light"
     },
     "output_type": "display_data"
    }
   ],
   "source": [
    "df.cnt.hist()"
   ]
  },
  {
   "cell_type": "markdown",
   "id": "eb4c4df9",
   "metadata": {},
   "source": [
    "# Prepare data"
   ]
  },
  {
   "cell_type": "markdown",
   "id": "13f82bee",
   "metadata": {},
   "source": [
    "We use PyCaret to automatically prepare the data for us (using the default settings of the `setup` function):"
   ]
  },
  {
   "cell_type": "code",
   "execution_count": 6,
   "id": "0a0cbf9d",
   "metadata": {},
   "outputs": [],
   "source": [
    "from pycaret.regression import *"
   ]
  },
  {
   "cell_type": "code",
   "execution_count": 7,
   "id": "92187e45",
   "metadata": {
    "scrolled": false
   },
   "outputs": [
    {
     "data": {
      "text/html": [
       "<style type=\"text/css\">\n",
       "#T_40a7b_row42_col1 {\n",
       "  background-color: lightgreen;\n",
       "}\n",
       "</style>\n",
       "<table id=\"T_40a7b_\">\n",
       "  <thead>\n",
       "    <tr>\n",
       "      <th class=\"blank level0\" >&nbsp;</th>\n",
       "      <th class=\"col_heading level0 col0\" >Description</th>\n",
       "      <th class=\"col_heading level0 col1\" >Value</th>\n",
       "    </tr>\n",
       "  </thead>\n",
       "  <tbody>\n",
       "    <tr>\n",
       "      <th id=\"T_40a7b_level0_row0\" class=\"row_heading level0 row0\" >0</th>\n",
       "      <td id=\"T_40a7b_row0_col0\" class=\"data row0 col0\" >session_id</td>\n",
       "      <td id=\"T_40a7b_row0_col1\" class=\"data row0 col1\" >8002</td>\n",
       "    </tr>\n",
       "    <tr>\n",
       "      <th id=\"T_40a7b_level0_row1\" class=\"row_heading level0 row1\" >1</th>\n",
       "      <td id=\"T_40a7b_row1_col0\" class=\"data row1 col0\" >Target</td>\n",
       "      <td id=\"T_40a7b_row1_col1\" class=\"data row1 col1\" >cnt</td>\n",
       "    </tr>\n",
       "    <tr>\n",
       "      <th id=\"T_40a7b_level0_row2\" class=\"row_heading level0 row2\" >2</th>\n",
       "      <td id=\"T_40a7b_row2_col0\" class=\"data row2 col0\" >Original Data</td>\n",
       "      <td id=\"T_40a7b_row2_col1\" class=\"data row2 col1\" >(17379, 15)</td>\n",
       "    </tr>\n",
       "    <tr>\n",
       "      <th id=\"T_40a7b_level0_row3\" class=\"row_heading level0 row3\" >3</th>\n",
       "      <td id=\"T_40a7b_row3_col0\" class=\"data row3 col0\" >Missing Values</td>\n",
       "      <td id=\"T_40a7b_row3_col1\" class=\"data row3 col1\" >False</td>\n",
       "    </tr>\n",
       "    <tr>\n",
       "      <th id=\"T_40a7b_level0_row4\" class=\"row_heading level0 row4\" >4</th>\n",
       "      <td id=\"T_40a7b_row4_col0\" class=\"data row4 col0\" >Numeric Features</td>\n",
       "      <td id=\"T_40a7b_row4_col1\" class=\"data row4 col1\" >5</td>\n",
       "    </tr>\n",
       "    <tr>\n",
       "      <th id=\"T_40a7b_level0_row5\" class=\"row_heading level0 row5\" >5</th>\n",
       "      <td id=\"T_40a7b_row5_col0\" class=\"data row5 col0\" >Categorical Features</td>\n",
       "      <td id=\"T_40a7b_row5_col1\" class=\"data row5 col1\" >7</td>\n",
       "    </tr>\n",
       "    <tr>\n",
       "      <th id=\"T_40a7b_level0_row6\" class=\"row_heading level0 row6\" >6</th>\n",
       "      <td id=\"T_40a7b_row6_col0\" class=\"data row6 col0\" >Ordinal Features</td>\n",
       "      <td id=\"T_40a7b_row6_col1\" class=\"data row6 col1\" >False</td>\n",
       "    </tr>\n",
       "    <tr>\n",
       "      <th id=\"T_40a7b_level0_row7\" class=\"row_heading level0 row7\" >7</th>\n",
       "      <td id=\"T_40a7b_row7_col0\" class=\"data row7 col0\" >High Cardinality Features</td>\n",
       "      <td id=\"T_40a7b_row7_col1\" class=\"data row7 col1\" >False</td>\n",
       "    </tr>\n",
       "    <tr>\n",
       "      <th id=\"T_40a7b_level0_row8\" class=\"row_heading level0 row8\" >8</th>\n",
       "      <td id=\"T_40a7b_row8_col0\" class=\"data row8 col0\" >High Cardinality Method</td>\n",
       "      <td id=\"T_40a7b_row8_col1\" class=\"data row8 col1\" >None</td>\n",
       "    </tr>\n",
       "    <tr>\n",
       "      <th id=\"T_40a7b_level0_row9\" class=\"row_heading level0 row9\" >9</th>\n",
       "      <td id=\"T_40a7b_row9_col0\" class=\"data row9 col0\" >Transformed Train Set</td>\n",
       "      <td id=\"T_40a7b_row9_col1\" class=\"data row9 col1\" >(12165, 37)</td>\n",
       "    </tr>\n",
       "    <tr>\n",
       "      <th id=\"T_40a7b_level0_row10\" class=\"row_heading level0 row10\" >10</th>\n",
       "      <td id=\"T_40a7b_row10_col0\" class=\"data row10 col0\" >Transformed Test Set</td>\n",
       "      <td id=\"T_40a7b_row10_col1\" class=\"data row10 col1\" >(5214, 37)</td>\n",
       "    </tr>\n",
       "    <tr>\n",
       "      <th id=\"T_40a7b_level0_row11\" class=\"row_heading level0 row11\" >11</th>\n",
       "      <td id=\"T_40a7b_row11_col0\" class=\"data row11 col0\" >Shuffle Train-Test</td>\n",
       "      <td id=\"T_40a7b_row11_col1\" class=\"data row11 col1\" >True</td>\n",
       "    </tr>\n",
       "    <tr>\n",
       "      <th id=\"T_40a7b_level0_row12\" class=\"row_heading level0 row12\" >12</th>\n",
       "      <td id=\"T_40a7b_row12_col0\" class=\"data row12 col0\" >Stratify Train-Test</td>\n",
       "      <td id=\"T_40a7b_row12_col1\" class=\"data row12 col1\" >False</td>\n",
       "    </tr>\n",
       "    <tr>\n",
       "      <th id=\"T_40a7b_level0_row13\" class=\"row_heading level0 row13\" >13</th>\n",
       "      <td id=\"T_40a7b_row13_col0\" class=\"data row13 col0\" >Fold Generator</td>\n",
       "      <td id=\"T_40a7b_row13_col1\" class=\"data row13 col1\" >KFold</td>\n",
       "    </tr>\n",
       "    <tr>\n",
       "      <th id=\"T_40a7b_level0_row14\" class=\"row_heading level0 row14\" >14</th>\n",
       "      <td id=\"T_40a7b_row14_col0\" class=\"data row14 col0\" >Fold Number</td>\n",
       "      <td id=\"T_40a7b_row14_col1\" class=\"data row14 col1\" >10</td>\n",
       "    </tr>\n",
       "    <tr>\n",
       "      <th id=\"T_40a7b_level0_row15\" class=\"row_heading level0 row15\" >15</th>\n",
       "      <td id=\"T_40a7b_row15_col0\" class=\"data row15 col0\" >CPU Jobs</td>\n",
       "      <td id=\"T_40a7b_row15_col1\" class=\"data row15 col1\" >-1</td>\n",
       "    </tr>\n",
       "    <tr>\n",
       "      <th id=\"T_40a7b_level0_row16\" class=\"row_heading level0 row16\" >16</th>\n",
       "      <td id=\"T_40a7b_row16_col0\" class=\"data row16 col0\" >Use GPU</td>\n",
       "      <td id=\"T_40a7b_row16_col1\" class=\"data row16 col1\" >False</td>\n",
       "    </tr>\n",
       "    <tr>\n",
       "      <th id=\"T_40a7b_level0_row17\" class=\"row_heading level0 row17\" >17</th>\n",
       "      <td id=\"T_40a7b_row17_col0\" class=\"data row17 col0\" >Log Experiment</td>\n",
       "      <td id=\"T_40a7b_row17_col1\" class=\"data row17 col1\" >False</td>\n",
       "    </tr>\n",
       "    <tr>\n",
       "      <th id=\"T_40a7b_level0_row18\" class=\"row_heading level0 row18\" >18</th>\n",
       "      <td id=\"T_40a7b_row18_col0\" class=\"data row18 col0\" >Experiment Name</td>\n",
       "      <td id=\"T_40a7b_row18_col1\" class=\"data row18 col1\" >reg-default-name</td>\n",
       "    </tr>\n",
       "    <tr>\n",
       "      <th id=\"T_40a7b_level0_row19\" class=\"row_heading level0 row19\" >19</th>\n",
       "      <td id=\"T_40a7b_row19_col0\" class=\"data row19 col0\" >USI</td>\n",
       "      <td id=\"T_40a7b_row19_col1\" class=\"data row19 col1\" >1185</td>\n",
       "    </tr>\n",
       "    <tr>\n",
       "      <th id=\"T_40a7b_level0_row20\" class=\"row_heading level0 row20\" >20</th>\n",
       "      <td id=\"T_40a7b_row20_col0\" class=\"data row20 col0\" >Imputation Type</td>\n",
       "      <td id=\"T_40a7b_row20_col1\" class=\"data row20 col1\" >simple</td>\n",
       "    </tr>\n",
       "    <tr>\n",
       "      <th id=\"T_40a7b_level0_row21\" class=\"row_heading level0 row21\" >21</th>\n",
       "      <td id=\"T_40a7b_row21_col0\" class=\"data row21 col0\" >Iterative Imputation Iteration</td>\n",
       "      <td id=\"T_40a7b_row21_col1\" class=\"data row21 col1\" >None</td>\n",
       "    </tr>\n",
       "    <tr>\n",
       "      <th id=\"T_40a7b_level0_row22\" class=\"row_heading level0 row22\" >22</th>\n",
       "      <td id=\"T_40a7b_row22_col0\" class=\"data row22 col0\" >Numeric Imputer</td>\n",
       "      <td id=\"T_40a7b_row22_col1\" class=\"data row22 col1\" >mean</td>\n",
       "    </tr>\n",
       "    <tr>\n",
       "      <th id=\"T_40a7b_level0_row23\" class=\"row_heading level0 row23\" >23</th>\n",
       "      <td id=\"T_40a7b_row23_col0\" class=\"data row23 col0\" >Iterative Imputation Numeric Model</td>\n",
       "      <td id=\"T_40a7b_row23_col1\" class=\"data row23 col1\" >None</td>\n",
       "    </tr>\n",
       "    <tr>\n",
       "      <th id=\"T_40a7b_level0_row24\" class=\"row_heading level0 row24\" >24</th>\n",
       "      <td id=\"T_40a7b_row24_col0\" class=\"data row24 col0\" >Categorical Imputer</td>\n",
       "      <td id=\"T_40a7b_row24_col1\" class=\"data row24 col1\" >constant</td>\n",
       "    </tr>\n",
       "    <tr>\n",
       "      <th id=\"T_40a7b_level0_row25\" class=\"row_heading level0 row25\" >25</th>\n",
       "      <td id=\"T_40a7b_row25_col0\" class=\"data row25 col0\" >Iterative Imputation Categorical Model</td>\n",
       "      <td id=\"T_40a7b_row25_col1\" class=\"data row25 col1\" >None</td>\n",
       "    </tr>\n",
       "    <tr>\n",
       "      <th id=\"T_40a7b_level0_row26\" class=\"row_heading level0 row26\" >26</th>\n",
       "      <td id=\"T_40a7b_row26_col0\" class=\"data row26 col0\" >Unknown Categoricals Handling</td>\n",
       "      <td id=\"T_40a7b_row26_col1\" class=\"data row26 col1\" >least_frequent</td>\n",
       "    </tr>\n",
       "    <tr>\n",
       "      <th id=\"T_40a7b_level0_row27\" class=\"row_heading level0 row27\" >27</th>\n",
       "      <td id=\"T_40a7b_row27_col0\" class=\"data row27 col0\" >Normalize</td>\n",
       "      <td id=\"T_40a7b_row27_col1\" class=\"data row27 col1\" >False</td>\n",
       "    </tr>\n",
       "    <tr>\n",
       "      <th id=\"T_40a7b_level0_row28\" class=\"row_heading level0 row28\" >28</th>\n",
       "      <td id=\"T_40a7b_row28_col0\" class=\"data row28 col0\" >Normalize Method</td>\n",
       "      <td id=\"T_40a7b_row28_col1\" class=\"data row28 col1\" >None</td>\n",
       "    </tr>\n",
       "    <tr>\n",
       "      <th id=\"T_40a7b_level0_row29\" class=\"row_heading level0 row29\" >29</th>\n",
       "      <td id=\"T_40a7b_row29_col0\" class=\"data row29 col0\" >Transformation</td>\n",
       "      <td id=\"T_40a7b_row29_col1\" class=\"data row29 col1\" >False</td>\n",
       "    </tr>\n",
       "    <tr>\n",
       "      <th id=\"T_40a7b_level0_row30\" class=\"row_heading level0 row30\" >30</th>\n",
       "      <td id=\"T_40a7b_row30_col0\" class=\"data row30 col0\" >Transformation Method</td>\n",
       "      <td id=\"T_40a7b_row30_col1\" class=\"data row30 col1\" >None</td>\n",
       "    </tr>\n",
       "    <tr>\n",
       "      <th id=\"T_40a7b_level0_row31\" class=\"row_heading level0 row31\" >31</th>\n",
       "      <td id=\"T_40a7b_row31_col0\" class=\"data row31 col0\" >PCA</td>\n",
       "      <td id=\"T_40a7b_row31_col1\" class=\"data row31 col1\" >False</td>\n",
       "    </tr>\n",
       "    <tr>\n",
       "      <th id=\"T_40a7b_level0_row32\" class=\"row_heading level0 row32\" >32</th>\n",
       "      <td id=\"T_40a7b_row32_col0\" class=\"data row32 col0\" >PCA Method</td>\n",
       "      <td id=\"T_40a7b_row32_col1\" class=\"data row32 col1\" >None</td>\n",
       "    </tr>\n",
       "    <tr>\n",
       "      <th id=\"T_40a7b_level0_row33\" class=\"row_heading level0 row33\" >33</th>\n",
       "      <td id=\"T_40a7b_row33_col0\" class=\"data row33 col0\" >PCA Components</td>\n",
       "      <td id=\"T_40a7b_row33_col1\" class=\"data row33 col1\" >None</td>\n",
       "    </tr>\n",
       "    <tr>\n",
       "      <th id=\"T_40a7b_level0_row34\" class=\"row_heading level0 row34\" >34</th>\n",
       "      <td id=\"T_40a7b_row34_col0\" class=\"data row34 col0\" >Ignore Low Variance</td>\n",
       "      <td id=\"T_40a7b_row34_col1\" class=\"data row34 col1\" >False</td>\n",
       "    </tr>\n",
       "    <tr>\n",
       "      <th id=\"T_40a7b_level0_row35\" class=\"row_heading level0 row35\" >35</th>\n",
       "      <td id=\"T_40a7b_row35_col0\" class=\"data row35 col0\" >Combine Rare Levels</td>\n",
       "      <td id=\"T_40a7b_row35_col1\" class=\"data row35 col1\" >False</td>\n",
       "    </tr>\n",
       "    <tr>\n",
       "      <th id=\"T_40a7b_level0_row36\" class=\"row_heading level0 row36\" >36</th>\n",
       "      <td id=\"T_40a7b_row36_col0\" class=\"data row36 col0\" >Rare Level Threshold</td>\n",
       "      <td id=\"T_40a7b_row36_col1\" class=\"data row36 col1\" >None</td>\n",
       "    </tr>\n",
       "    <tr>\n",
       "      <th id=\"T_40a7b_level0_row37\" class=\"row_heading level0 row37\" >37</th>\n",
       "      <td id=\"T_40a7b_row37_col0\" class=\"data row37 col0\" >Numeric Binning</td>\n",
       "      <td id=\"T_40a7b_row37_col1\" class=\"data row37 col1\" >False</td>\n",
       "    </tr>\n",
       "    <tr>\n",
       "      <th id=\"T_40a7b_level0_row38\" class=\"row_heading level0 row38\" >38</th>\n",
       "      <td id=\"T_40a7b_row38_col0\" class=\"data row38 col0\" >Remove Outliers</td>\n",
       "      <td id=\"T_40a7b_row38_col1\" class=\"data row38 col1\" >False</td>\n",
       "    </tr>\n",
       "    <tr>\n",
       "      <th id=\"T_40a7b_level0_row39\" class=\"row_heading level0 row39\" >39</th>\n",
       "      <td id=\"T_40a7b_row39_col0\" class=\"data row39 col0\" >Outliers Threshold</td>\n",
       "      <td id=\"T_40a7b_row39_col1\" class=\"data row39 col1\" >None</td>\n",
       "    </tr>\n",
       "    <tr>\n",
       "      <th id=\"T_40a7b_level0_row40\" class=\"row_heading level0 row40\" >40</th>\n",
       "      <td id=\"T_40a7b_row40_col0\" class=\"data row40 col0\" >Remove Multicollinearity</td>\n",
       "      <td id=\"T_40a7b_row40_col1\" class=\"data row40 col1\" >False</td>\n",
       "    </tr>\n",
       "    <tr>\n",
       "      <th id=\"T_40a7b_level0_row41\" class=\"row_heading level0 row41\" >41</th>\n",
       "      <td id=\"T_40a7b_row41_col0\" class=\"data row41 col0\" >Multicollinearity Threshold</td>\n",
       "      <td id=\"T_40a7b_row41_col1\" class=\"data row41 col1\" >None</td>\n",
       "    </tr>\n",
       "    <tr>\n",
       "      <th id=\"T_40a7b_level0_row42\" class=\"row_heading level0 row42\" >42</th>\n",
       "      <td id=\"T_40a7b_row42_col0\" class=\"data row42 col0\" >Remove Perfect Collinearity</td>\n",
       "      <td id=\"T_40a7b_row42_col1\" class=\"data row42 col1\" >True</td>\n",
       "    </tr>\n",
       "    <tr>\n",
       "      <th id=\"T_40a7b_level0_row43\" class=\"row_heading level0 row43\" >43</th>\n",
       "      <td id=\"T_40a7b_row43_col0\" class=\"data row43 col0\" >Clustering</td>\n",
       "      <td id=\"T_40a7b_row43_col1\" class=\"data row43 col1\" >False</td>\n",
       "    </tr>\n",
       "    <tr>\n",
       "      <th id=\"T_40a7b_level0_row44\" class=\"row_heading level0 row44\" >44</th>\n",
       "      <td id=\"T_40a7b_row44_col0\" class=\"data row44 col0\" >Clustering Iteration</td>\n",
       "      <td id=\"T_40a7b_row44_col1\" class=\"data row44 col1\" >None</td>\n",
       "    </tr>\n",
       "    <tr>\n",
       "      <th id=\"T_40a7b_level0_row45\" class=\"row_heading level0 row45\" >45</th>\n",
       "      <td id=\"T_40a7b_row45_col0\" class=\"data row45 col0\" >Polynomial Features</td>\n",
       "      <td id=\"T_40a7b_row45_col1\" class=\"data row45 col1\" >False</td>\n",
       "    </tr>\n",
       "    <tr>\n",
       "      <th id=\"T_40a7b_level0_row46\" class=\"row_heading level0 row46\" >46</th>\n",
       "      <td id=\"T_40a7b_row46_col0\" class=\"data row46 col0\" >Polynomial Degree</td>\n",
       "      <td id=\"T_40a7b_row46_col1\" class=\"data row46 col1\" >None</td>\n",
       "    </tr>\n",
       "    <tr>\n",
       "      <th id=\"T_40a7b_level0_row47\" class=\"row_heading level0 row47\" >47</th>\n",
       "      <td id=\"T_40a7b_row47_col0\" class=\"data row47 col0\" >Trignometry Features</td>\n",
       "      <td id=\"T_40a7b_row47_col1\" class=\"data row47 col1\" >False</td>\n",
       "    </tr>\n",
       "    <tr>\n",
       "      <th id=\"T_40a7b_level0_row48\" class=\"row_heading level0 row48\" >48</th>\n",
       "      <td id=\"T_40a7b_row48_col0\" class=\"data row48 col0\" >Polynomial Threshold</td>\n",
       "      <td id=\"T_40a7b_row48_col1\" class=\"data row48 col1\" >None</td>\n",
       "    </tr>\n",
       "    <tr>\n",
       "      <th id=\"T_40a7b_level0_row49\" class=\"row_heading level0 row49\" >49</th>\n",
       "      <td id=\"T_40a7b_row49_col0\" class=\"data row49 col0\" >Group Features</td>\n",
       "      <td id=\"T_40a7b_row49_col1\" class=\"data row49 col1\" >False</td>\n",
       "    </tr>\n",
       "    <tr>\n",
       "      <th id=\"T_40a7b_level0_row50\" class=\"row_heading level0 row50\" >50</th>\n",
       "      <td id=\"T_40a7b_row50_col0\" class=\"data row50 col0\" >Feature Selection</td>\n",
       "      <td id=\"T_40a7b_row50_col1\" class=\"data row50 col1\" >False</td>\n",
       "    </tr>\n",
       "    <tr>\n",
       "      <th id=\"T_40a7b_level0_row51\" class=\"row_heading level0 row51\" >51</th>\n",
       "      <td id=\"T_40a7b_row51_col0\" class=\"data row51 col0\" >Feature Selection Method</td>\n",
       "      <td id=\"T_40a7b_row51_col1\" class=\"data row51 col1\" >classic</td>\n",
       "    </tr>\n",
       "    <tr>\n",
       "      <th id=\"T_40a7b_level0_row52\" class=\"row_heading level0 row52\" >52</th>\n",
       "      <td id=\"T_40a7b_row52_col0\" class=\"data row52 col0\" >Features Selection Threshold</td>\n",
       "      <td id=\"T_40a7b_row52_col1\" class=\"data row52 col1\" >None</td>\n",
       "    </tr>\n",
       "    <tr>\n",
       "      <th id=\"T_40a7b_level0_row53\" class=\"row_heading level0 row53\" >53</th>\n",
       "      <td id=\"T_40a7b_row53_col0\" class=\"data row53 col0\" >Feature Interaction</td>\n",
       "      <td id=\"T_40a7b_row53_col1\" class=\"data row53 col1\" >False</td>\n",
       "    </tr>\n",
       "    <tr>\n",
       "      <th id=\"T_40a7b_level0_row54\" class=\"row_heading level0 row54\" >54</th>\n",
       "      <td id=\"T_40a7b_row54_col0\" class=\"data row54 col0\" >Feature Ratio</td>\n",
       "      <td id=\"T_40a7b_row54_col1\" class=\"data row54 col1\" >False</td>\n",
       "    </tr>\n",
       "    <tr>\n",
       "      <th id=\"T_40a7b_level0_row55\" class=\"row_heading level0 row55\" >55</th>\n",
       "      <td id=\"T_40a7b_row55_col0\" class=\"data row55 col0\" >Interaction Threshold</td>\n",
       "      <td id=\"T_40a7b_row55_col1\" class=\"data row55 col1\" >None</td>\n",
       "    </tr>\n",
       "    <tr>\n",
       "      <th id=\"T_40a7b_level0_row56\" class=\"row_heading level0 row56\" >56</th>\n",
       "      <td id=\"T_40a7b_row56_col0\" class=\"data row56 col0\" >Transform Target</td>\n",
       "      <td id=\"T_40a7b_row56_col1\" class=\"data row56 col1\" >False</td>\n",
       "    </tr>\n",
       "    <tr>\n",
       "      <th id=\"T_40a7b_level0_row57\" class=\"row_heading level0 row57\" >57</th>\n",
       "      <td id=\"T_40a7b_row57_col0\" class=\"data row57 col0\" >Transform Target Method</td>\n",
       "      <td id=\"T_40a7b_row57_col1\" class=\"data row57 col1\" >box-cox</td>\n",
       "    </tr>\n",
       "  </tbody>\n",
       "</table>\n"
      ],
      "text/plain": [
       "<pandas.io.formats.style.Styler at 0x258d903a970>"
      ]
     },
     "metadata": {},
     "output_type": "display_data"
    }
   ],
   "source": [
    "clf = setup(df, target = 'cnt', ignore_features=['instant'])"
   ]
  },
  {
   "cell_type": "markdown",
   "id": "0b2b11bb",
   "metadata": {},
   "source": [
    "# Modelling"
   ]
  },
  {
   "cell_type": "markdown",
   "id": "52d0a0d7",
   "metadata": {},
   "source": [
    "Let's find the top performing models from those in PyCaret:"
   ]
  },
  {
   "cell_type": "code",
   "execution_count": 8,
   "id": "a3738eda",
   "metadata": {},
   "outputs": [
    {
     "data": {
      "text/html": [
       "<style type=\"text/css\">\n",
       "#T_42229_ th {\n",
       "  text-align: left;\n",
       "}\n",
       "#T_42229_row0_col0, #T_42229_row0_col5, #T_42229_row0_col6, #T_42229_row1_col0, #T_42229_row1_col1, #T_42229_row1_col2, #T_42229_row1_col3, #T_42229_row1_col4, #T_42229_row1_col5, #T_42229_row1_col6, #T_42229_row2_col0, #T_42229_row2_col1, #T_42229_row2_col2, #T_42229_row2_col3, #T_42229_row2_col4, #T_42229_row3_col0, #T_42229_row3_col1, #T_42229_row3_col2, #T_42229_row3_col3, #T_42229_row3_col4, #T_42229_row3_col5, #T_42229_row3_col6, #T_42229_row4_col0, #T_42229_row4_col1, #T_42229_row4_col2, #T_42229_row4_col3, #T_42229_row4_col4, #T_42229_row4_col5, #T_42229_row4_col6, #T_42229_row5_col0, #T_42229_row5_col1, #T_42229_row5_col2, #T_42229_row5_col3, #T_42229_row5_col4, #T_42229_row5_col5, #T_42229_row5_col6, #T_42229_row6_col0, #T_42229_row6_col1, #T_42229_row6_col2, #T_42229_row6_col3, #T_42229_row6_col4, #T_42229_row6_col5, #T_42229_row6_col6, #T_42229_row7_col0, #T_42229_row7_col1, #T_42229_row7_col2, #T_42229_row7_col3, #T_42229_row7_col4, #T_42229_row7_col5, #T_42229_row7_col6, #T_42229_row8_col0, #T_42229_row8_col1, #T_42229_row8_col2, #T_42229_row8_col3, #T_42229_row8_col4, #T_42229_row8_col5, #T_42229_row8_col6, #T_42229_row9_col0, #T_42229_row9_col1, #T_42229_row9_col2, #T_42229_row9_col3, #T_42229_row9_col4, #T_42229_row9_col5, #T_42229_row9_col6, #T_42229_row10_col0, #T_42229_row10_col1, #T_42229_row10_col2, #T_42229_row10_col3, #T_42229_row10_col4, #T_42229_row10_col5, #T_42229_row10_col6, #T_42229_row11_col0, #T_42229_row11_col1, #T_42229_row11_col2, #T_42229_row11_col3, #T_42229_row11_col4, #T_42229_row11_col5, #T_42229_row11_col6, #T_42229_row12_col0, #T_42229_row12_col1, #T_42229_row12_col2, #T_42229_row12_col3, #T_42229_row12_col4, #T_42229_row12_col5, #T_42229_row12_col6, #T_42229_row13_col0, #T_42229_row13_col1, #T_42229_row13_col2, #T_42229_row13_col3, #T_42229_row13_col4, #T_42229_row13_col5, #T_42229_row13_col6, #T_42229_row14_col0, #T_42229_row14_col1, #T_42229_row14_col2, #T_42229_row14_col3, #T_42229_row14_col4, #T_42229_row14_col5, #T_42229_row14_col6, #T_42229_row15_col0, #T_42229_row15_col1, #T_42229_row15_col2, #T_42229_row15_col3, #T_42229_row15_col4, #T_42229_row15_col5, #T_42229_row15_col6, #T_42229_row16_col0, #T_42229_row16_col1, #T_42229_row16_col2, #T_42229_row16_col3, #T_42229_row16_col4, #T_42229_row16_col5, #T_42229_row16_col6, #T_42229_row17_col0, #T_42229_row17_col1, #T_42229_row17_col2, #T_42229_row17_col3, #T_42229_row17_col4, #T_42229_row17_col5, #T_42229_row17_col6, #T_42229_row18_col0, #T_42229_row18_col1, #T_42229_row18_col2, #T_42229_row18_col3, #T_42229_row18_col4, #T_42229_row18_col5, #T_42229_row18_col6 {\n",
       "  text-align: left;\n",
       "}\n",
       "#T_42229_row0_col1, #T_42229_row0_col2, #T_42229_row0_col3, #T_42229_row0_col4, #T_42229_row2_col5, #T_42229_row2_col6 {\n",
       "  text-align: left;\n",
       "  background-color: yellow;\n",
       "}\n",
       "#T_42229_row0_col7, #T_42229_row1_col7, #T_42229_row2_col7, #T_42229_row3_col7, #T_42229_row4_col7, #T_42229_row5_col7, #T_42229_row6_col7, #T_42229_row7_col7, #T_42229_row8_col7, #T_42229_row9_col7, #T_42229_row10_col7, #T_42229_row11_col7, #T_42229_row12_col7, #T_42229_row13_col7, #T_42229_row15_col7, #T_42229_row16_col7, #T_42229_row17_col7, #T_42229_row18_col7 {\n",
       "  text-align: left;\n",
       "  background-color: lightgrey;\n",
       "}\n",
       "#T_42229_row14_col7 {\n",
       "  text-align: left;\n",
       "  background-color: yellow;\n",
       "  background-color: lightgrey;\n",
       "}\n",
       "</style>\n",
       "<table id=\"T_42229_\">\n",
       "  <thead>\n",
       "    <tr>\n",
       "      <th class=\"blank level0\" >&nbsp;</th>\n",
       "      <th class=\"col_heading level0 col0\" >Model</th>\n",
       "      <th class=\"col_heading level0 col1\" >MAE</th>\n",
       "      <th class=\"col_heading level0 col2\" >MSE</th>\n",
       "      <th class=\"col_heading level0 col3\" >RMSE</th>\n",
       "      <th class=\"col_heading level0 col4\" >R2</th>\n",
       "      <th class=\"col_heading level0 col5\" >RMSLE</th>\n",
       "      <th class=\"col_heading level0 col6\" >MAPE</th>\n",
       "      <th class=\"col_heading level0 col7\" >TT (Sec)</th>\n",
       "    </tr>\n",
       "  </thead>\n",
       "  <tbody>\n",
       "    <tr>\n",
       "      <th id=\"T_42229_level0_row0\" class=\"row_heading level0 row0\" >catboost</th>\n",
       "      <td id=\"T_42229_row0_col0\" class=\"data row0 col0\" >CatBoost Regressor</td>\n",
       "      <td id=\"T_42229_row0_col1\" class=\"data row0 col1\" >25.4058</td>\n",
       "      <td id=\"T_42229_row0_col2\" class=\"data row0 col2\" >1612.0208</td>\n",
       "      <td id=\"T_42229_row0_col3\" class=\"data row0 col3\" >40.1008</td>\n",
       "      <td id=\"T_42229_row0_col4\" class=\"data row0 col4\" >0.9508</td>\n",
       "      <td id=\"T_42229_row0_col5\" class=\"data row0 col5\" >0.4393</td>\n",
       "      <td id=\"T_42229_row0_col6\" class=\"data row0 col6\" >0.4443</td>\n",
       "      <td id=\"T_42229_row0_col7\" class=\"data row0 col7\" >0.3810</td>\n",
       "    </tr>\n",
       "    <tr>\n",
       "      <th id=\"T_42229_level0_row1\" class=\"row_heading level0 row1\" >xgboost</th>\n",
       "      <td id=\"T_42229_row1_col0\" class=\"data row1 col0\" >Extreme Gradient Boosting</td>\n",
       "      <td id=\"T_42229_row1_col1\" class=\"data row1 col1\" >26.7526</td>\n",
       "      <td id=\"T_42229_row1_col2\" class=\"data row1 col2\" >1787.3949</td>\n",
       "      <td id=\"T_42229_row1_col3\" class=\"data row1 col3\" >42.2259</td>\n",
       "      <td id=\"T_42229_row1_col4\" class=\"data row1 col4\" >0.9455</td>\n",
       "      <td id=\"T_42229_row1_col5\" class=\"data row1 col5\" >0.4447</td>\n",
       "      <td id=\"T_42229_row1_col6\" class=\"data row1 col6\" >0.4385</td>\n",
       "      <td id=\"T_42229_row1_col7\" class=\"data row1 col7\" >0.1630</td>\n",
       "    </tr>\n",
       "    <tr>\n",
       "      <th id=\"T_42229_level0_row2\" class=\"row_heading level0 row2\" >et</th>\n",
       "      <td id=\"T_42229_row2_col0\" class=\"data row2 col0\" >Extra Trees Regressor</td>\n",
       "      <td id=\"T_42229_row2_col1\" class=\"data row2 col1\" >26.0537</td>\n",
       "      <td id=\"T_42229_row2_col2\" class=\"data row2 col2\" >1831.1566</td>\n",
       "      <td id=\"T_42229_row2_col3\" class=\"data row2 col3\" >42.7049</td>\n",
       "      <td id=\"T_42229_row2_col4\" class=\"data row2 col4\" >0.9442</td>\n",
       "      <td id=\"T_42229_row2_col5\" class=\"data row2 col5\" >0.3425</td>\n",
       "      <td id=\"T_42229_row2_col6\" class=\"data row2 col6\" >0.3171</td>\n",
       "      <td id=\"T_42229_row2_col7\" class=\"data row2 col7\" >0.2110</td>\n",
       "    </tr>\n",
       "    <tr>\n",
       "      <th id=\"T_42229_level0_row3\" class=\"row_heading level0 row3\" >lightgbm</th>\n",
       "      <td id=\"T_42229_row3_col0\" class=\"data row3 col0\" >Light Gradient Boosting Machine</td>\n",
       "      <td id=\"T_42229_row3_col1\" class=\"data row3 col1\" >27.0746</td>\n",
       "      <td id=\"T_42229_row3_col2\" class=\"data row3 col2\" >1849.5644</td>\n",
       "      <td id=\"T_42229_row3_col3\" class=\"data row3 col3\" >42.9545</td>\n",
       "      <td id=\"T_42229_row3_col4\" class=\"data row3 col4\" >0.9436</td>\n",
       "      <td id=\"T_42229_row3_col5\" class=\"data row3 col5\" >0.4229</td>\n",
       "      <td id=\"T_42229_row3_col6\" class=\"data row3 col6\" >0.4273</td>\n",
       "      <td id=\"T_42229_row3_col7\" class=\"data row3 col7\" >0.0280</td>\n",
       "    </tr>\n",
       "    <tr>\n",
       "      <th id=\"T_42229_level0_row4\" class=\"row_heading level0 row4\" >rf</th>\n",
       "      <td id=\"T_42229_row4_col0\" class=\"data row4 col0\" >Random Forest Regressor</td>\n",
       "      <td id=\"T_42229_row4_col1\" class=\"data row4 col1\" >26.7028</td>\n",
       "      <td id=\"T_42229_row4_col2\" class=\"data row4 col2\" >1937.6419</td>\n",
       "      <td id=\"T_42229_row4_col3\" class=\"data row4 col3\" >43.9843</td>\n",
       "      <td id=\"T_42229_row4_col4\" class=\"data row4 col4\" >0.9410</td>\n",
       "      <td id=\"T_42229_row4_col5\" class=\"data row4 col5\" >0.3484</td>\n",
       "      <td id=\"T_42229_row4_col6\" class=\"data row4 col6\" >0.3235</td>\n",
       "      <td id=\"T_42229_row4_col7\" class=\"data row4 col7\" >0.2000</td>\n",
       "    </tr>\n",
       "    <tr>\n",
       "      <th id=\"T_42229_level0_row5\" class=\"row_heading level0 row5\" >dt</th>\n",
       "      <td id=\"T_42229_row5_col0\" class=\"data row5 col0\" >Decision Tree Regressor</td>\n",
       "      <td id=\"T_42229_row5_col1\" class=\"data row5 col1\" >36.4978</td>\n",
       "      <td id=\"T_42229_row5_col2\" class=\"data row5 col2\" >3852.7494</td>\n",
       "      <td id=\"T_42229_row5_col3\" class=\"data row5 col3\" >61.9736</td>\n",
       "      <td id=\"T_42229_row5_col4\" class=\"data row5 col4\" >0.8829</td>\n",
       "      <td id=\"T_42229_row5_col5\" class=\"data row5 col5\" >0.4565</td>\n",
       "      <td id=\"T_42229_row5_col6\" class=\"data row5 col6\" >0.4002</td>\n",
       "      <td id=\"T_42229_row5_col7\" class=\"data row5 col7\" >0.0200</td>\n",
       "    </tr>\n",
       "    <tr>\n",
       "      <th id=\"T_42229_level0_row6\" class=\"row_heading level0 row6\" >knn</th>\n",
       "      <td id=\"T_42229_row6_col0\" class=\"data row6 col0\" >K Neighbors Regressor</td>\n",
       "      <td id=\"T_42229_row6_col1\" class=\"data row6 col1\" >42.6080</td>\n",
       "      <td id=\"T_42229_row6_col2\" class=\"data row6 col2\" >4491.5115</td>\n",
       "      <td id=\"T_42229_row6_col3\" class=\"data row6 col3\" >66.9691</td>\n",
       "      <td id=\"T_42229_row6_col4\" class=\"data row6 col4\" >0.8634</td>\n",
       "      <td id=\"T_42229_row6_col5\" class=\"data row6 col5\" >0.4447</td>\n",
       "      <td id=\"T_42229_row6_col6\" class=\"data row6 col6\" >0.4778</td>\n",
       "      <td id=\"T_42229_row6_col7\" class=\"data row6 col7\" >0.0310</td>\n",
       "    </tr>\n",
       "    <tr>\n",
       "      <th id=\"T_42229_level0_row7\" class=\"row_heading level0 row7\" >gbr</th>\n",
       "      <td id=\"T_42229_row7_col0\" class=\"data row7 col0\" >Gradient Boosting Regressor</td>\n",
       "      <td id=\"T_42229_row7_col1\" class=\"data row7 col1\" >49.5635</td>\n",
       "      <td id=\"T_42229_row7_col2\" class=\"data row7 col2\" >5291.0658</td>\n",
       "      <td id=\"T_42229_row7_col3\" class=\"data row7 col3\" >72.7165</td>\n",
       "      <td id=\"T_42229_row7_col4\" class=\"data row7 col4\" >0.8394</td>\n",
       "      <td id=\"T_42229_row7_col5\" class=\"data row7 col5\" >0.7039</td>\n",
       "      <td id=\"T_42229_row7_col6\" class=\"data row7 col6\" >1.0081</td>\n",
       "      <td id=\"T_42229_row7_col7\" class=\"data row7 col7\" >0.1020</td>\n",
       "    </tr>\n",
       "    <tr>\n",
       "      <th id=\"T_42229_level0_row8\" class=\"row_heading level0 row8\" >ada</th>\n",
       "      <td id=\"T_42229_row8_col0\" class=\"data row8 col0\" >AdaBoost Regressor</td>\n",
       "      <td id=\"T_42229_row8_col1\" class=\"data row8 col1\" >87.8716</td>\n",
       "      <td id=\"T_42229_row8_col2\" class=\"data row8 col2\" >11616.4779</td>\n",
       "      <td id=\"T_42229_row8_col3\" class=\"data row8 col3\" >107.7360</td>\n",
       "      <td id=\"T_42229_row8_col4\" class=\"data row8 col4\" >0.6462</td>\n",
       "      <td id=\"T_42229_row8_col5\" class=\"data row8 col5\" >1.0842</td>\n",
       "      <td id=\"T_42229_row8_col6\" class=\"data row8 col6\" >2.8419</td>\n",
       "      <td id=\"T_42229_row8_col7\" class=\"data row8 col7\" >0.0760</td>\n",
       "    </tr>\n",
       "    <tr>\n",
       "      <th id=\"T_42229_level0_row9\" class=\"row_heading level0 row9\" >br</th>\n",
       "      <td id=\"T_42229_row9_col0\" class=\"data row9 col0\" >Bayesian Ridge</td>\n",
       "      <td id=\"T_42229_row9_col1\" class=\"data row9 col1\" >105.2288</td>\n",
       "      <td id=\"T_42229_row9_col2\" class=\"data row9 col2\" >19826.0612</td>\n",
       "      <td id=\"T_42229_row9_col3\" class=\"data row9 col3\" >140.7531</td>\n",
       "      <td id=\"T_42229_row9_col4\" class=\"data row9 col4\" >0.3989</td>\n",
       "      <td id=\"T_42229_row9_col5\" class=\"data row9 col5\" >1.2040</td>\n",
       "      <td id=\"T_42229_row9_col6\" class=\"data row9 col6\" >3.3351</td>\n",
       "      <td id=\"T_42229_row9_col7\" class=\"data row9 col7\" >0.0160</td>\n",
       "    </tr>\n",
       "    <tr>\n",
       "      <th id=\"T_42229_level0_row10\" class=\"row_heading level0 row10\" >lr</th>\n",
       "      <td id=\"T_42229_row10_col0\" class=\"data row10 col0\" >Linear Regression</td>\n",
       "      <td id=\"T_42229_row10_col1\" class=\"data row10 col1\" >105.2367</td>\n",
       "      <td id=\"T_42229_row10_col2\" class=\"data row10 col2\" >19825.1681</td>\n",
       "      <td id=\"T_42229_row10_col3\" class=\"data row10 col3\" >140.7506</td>\n",
       "      <td id=\"T_42229_row10_col4\" class=\"data row10 col4\" >0.3989</td>\n",
       "      <td id=\"T_42229_row10_col5\" class=\"data row10 col5\" >1.2046</td>\n",
       "      <td id=\"T_42229_row10_col6\" class=\"data row10 col6\" >3.3397</td>\n",
       "      <td id=\"T_42229_row10_col7\" class=\"data row10 col7\" >0.2670</td>\n",
       "    </tr>\n",
       "    <tr>\n",
       "      <th id=\"T_42229_level0_row11\" class=\"row_heading level0 row11\" >ridge</th>\n",
       "      <td id=\"T_42229_row11_col0\" class=\"data row11 col0\" >Ridge Regression</td>\n",
       "      <td id=\"T_42229_row11_col1\" class=\"data row11 col1\" >105.2327</td>\n",
       "      <td id=\"T_42229_row11_col2\" class=\"data row11 col2\" >19824.8143</td>\n",
       "      <td id=\"T_42229_row11_col3\" class=\"data row11 col3\" >140.7492</td>\n",
       "      <td id=\"T_42229_row11_col4\" class=\"data row11 col4\" >0.3989</td>\n",
       "      <td id=\"T_42229_row11_col5\" class=\"data row11 col5\" >1.2046</td>\n",
       "      <td id=\"T_42229_row11_col6\" class=\"data row11 col6\" >3.3382</td>\n",
       "      <td id=\"T_42229_row11_col7\" class=\"data row11 col7\" >0.2150</td>\n",
       "    </tr>\n",
       "    <tr>\n",
       "      <th id=\"T_42229_level0_row12\" class=\"row_heading level0 row12\" >lasso</th>\n",
       "      <td id=\"T_42229_row12_col0\" class=\"data row12 col0\" >Lasso Regression</td>\n",
       "      <td id=\"T_42229_row12_col1\" class=\"data row12 col1\" >105.2057</td>\n",
       "      <td id=\"T_42229_row12_col2\" class=\"data row12 col2\" >20048.7535</td>\n",
       "      <td id=\"T_42229_row12_col3\" class=\"data row12 col3\" >141.5317</td>\n",
       "      <td id=\"T_42229_row12_col4\" class=\"data row12 col4\" >0.3925</td>\n",
       "      <td id=\"T_42229_row12_col5\" class=\"data row12 col5\" >1.2029</td>\n",
       "      <td id=\"T_42229_row12_col6\" class=\"data row12 col6\" >3.2962</td>\n",
       "      <td id=\"T_42229_row12_col7\" class=\"data row12 col7\" >0.2190</td>\n",
       "    </tr>\n",
       "    <tr>\n",
       "      <th id=\"T_42229_level0_row13\" class=\"row_heading level0 row13\" >huber</th>\n",
       "      <td id=\"T_42229_row13_col0\" class=\"data row13 col0\" >Huber Regressor</td>\n",
       "      <td id=\"T_42229_row13_col1\" class=\"data row13 col1\" >100.2844</td>\n",
       "      <td id=\"T_42229_row13_col2\" class=\"data row13 col2\" >20950.9994</td>\n",
       "      <td id=\"T_42229_row13_col3\" class=\"data row13 col3\" >144.6713</td>\n",
       "      <td id=\"T_42229_row13_col4\" class=\"data row13 col4\" >0.3654</td>\n",
       "      <td id=\"T_42229_row13_col5\" class=\"data row13 col5\" >1.1295</td>\n",
       "      <td id=\"T_42229_row13_col6\" class=\"data row13 col6\" >2.6079</td>\n",
       "      <td id=\"T_42229_row13_col7\" class=\"data row13 col7\" >0.1220</td>\n",
       "    </tr>\n",
       "    <tr>\n",
       "      <th id=\"T_42229_level0_row14\" class=\"row_heading level0 row14\" >omp</th>\n",
       "      <td id=\"T_42229_row14_col0\" class=\"data row14 col0\" >Orthogonal Matching Pursuit</td>\n",
       "      <td id=\"T_42229_row14_col1\" class=\"data row14 col1\" >110.9164</td>\n",
       "      <td id=\"T_42229_row14_col2\" class=\"data row14 col2\" >22087.0167</td>\n",
       "      <td id=\"T_42229_row14_col3\" class=\"data row14 col3\" >148.5596</td>\n",
       "      <td id=\"T_42229_row14_col4\" class=\"data row14 col4\" >0.3309</td>\n",
       "      <td id=\"T_42229_row14_col5\" class=\"data row14 col5\" >1.2327</td>\n",
       "      <td id=\"T_42229_row14_col6\" class=\"data row14 col6\" >3.4422</td>\n",
       "      <td id=\"T_42229_row14_col7\" class=\"data row14 col7\" >0.0130</td>\n",
       "    </tr>\n",
       "    <tr>\n",
       "      <th id=\"T_42229_level0_row15\" class=\"row_heading level0 row15\" >en</th>\n",
       "      <td id=\"T_42229_row15_col0\" class=\"data row15 col0\" >Elastic Net</td>\n",
       "      <td id=\"T_42229_row15_col1\" class=\"data row15 col1\" >116.4086</td>\n",
       "      <td id=\"T_42229_row15_col2\" class=\"data row15 col2\" >24585.6675</td>\n",
       "      <td id=\"T_42229_row15_col3\" class=\"data row15 col3\" >156.7134</td>\n",
       "      <td id=\"T_42229_row15_col4\" class=\"data row15 col4\" >0.2558</td>\n",
       "      <td id=\"T_42229_row15_col5\" class=\"data row15 col5\" >1.2796</td>\n",
       "      <td id=\"T_42229_row15_col6\" class=\"data row15 col6\" >3.9696</td>\n",
       "      <td id=\"T_42229_row15_col7\" class=\"data row15 col7\" >0.1870</td>\n",
       "    </tr>\n",
       "    <tr>\n",
       "      <th id=\"T_42229_level0_row16\" class=\"row_heading level0 row16\" >par</th>\n",
       "      <td id=\"T_42229_row16_col0\" class=\"data row16 col0\" >Passive Aggressive Regressor</td>\n",
       "      <td id=\"T_42229_row16_col1\" class=\"data row16 col1\" >113.5884</td>\n",
       "      <td id=\"T_42229_row16_col2\" class=\"data row16 col2\" >28492.8987</td>\n",
       "      <td id=\"T_42229_row16_col3\" class=\"data row16 col3\" >168.3113</td>\n",
       "      <td id=\"T_42229_row16_col4\" class=\"data row16 col4\" >0.1331</td>\n",
       "      <td id=\"T_42229_row16_col5\" class=\"data row16 col5\" >1.1561</td>\n",
       "      <td id=\"T_42229_row16_col6\" class=\"data row16 col6\" >2.2220</td>\n",
       "      <td id=\"T_42229_row16_col7\" class=\"data row16 col7\" >0.0160</td>\n",
       "    </tr>\n",
       "    <tr>\n",
       "      <th id=\"T_42229_level0_row17\" class=\"row_heading level0 row17\" >llar</th>\n",
       "      <td id=\"T_42229_row17_col0\" class=\"data row17 col0\" >Lasso Least Angle Regression</td>\n",
       "      <td id=\"T_42229_row17_col1\" class=\"data row17 col1\" >142.7701</td>\n",
       "      <td id=\"T_42229_row17_col2\" class=\"data row17 col2\" >33078.8636</td>\n",
       "      <td id=\"T_42229_row17_col3\" class=\"data row17 col3\" >181.7603</td>\n",
       "      <td id=\"T_42229_row17_col4\" class=\"data row17 col4\" >-0.0007</td>\n",
       "      <td id=\"T_42229_row17_col5\" class=\"data row17 col5\" >1.5628</td>\n",
       "      <td id=\"T_42229_row17_col6\" class=\"data row17 col6\" >7.6182</td>\n",
       "      <td id=\"T_42229_row17_col7\" class=\"data row17 col7\" >0.0150</td>\n",
       "    </tr>\n",
       "    <tr>\n",
       "      <th id=\"T_42229_level0_row18\" class=\"row_heading level0 row18\" >lar</th>\n",
       "      <td id=\"T_42229_row18_col0\" class=\"data row18 col0\" >Least Angle Regression</td>\n",
       "      <td id=\"T_42229_row18_col1\" class=\"data row18 col1\" >42692423.1919</td>\n",
       "      <td id=\"T_42229_row18_col2\" class=\"data row18 col2\" >32142912236553196.0000</td>\n",
       "      <td id=\"T_42229_row18_col3\" class=\"data row18 col3\" >60371334.1412</td>\n",
       "      <td id=\"T_42229_row18_col4\" class=\"data row18 col4\" >-931950515415.4348</td>\n",
       "      <td id=\"T_42229_row18_col5\" class=\"data row18 col5\" >6.0425</td>\n",
       "      <td id=\"T_42229_row18_col6\" class=\"data row18 col6\" >1938369.6526</td>\n",
       "      <td id=\"T_42229_row18_col7\" class=\"data row18 col7\" >0.0160</td>\n",
       "    </tr>\n",
       "  </tbody>\n",
       "</table>\n"
      ],
      "text/plain": [
       "<pandas.io.formats.style.Styler at 0x2597f14deb0>"
      ]
     },
     "metadata": {},
     "output_type": "display_data"
    }
   ],
   "source": [
    "top5 = compare_models(n_select=5, sort='R2')"
   ]
  },
  {
   "cell_type": "markdown",
   "id": "bf481ace",
   "metadata": {},
   "source": [
    "The natural next step would be to tune the top models (i.e. hyperparameter-tuning using grid search or random search). We skip this as it takes quite some time. "
   ]
  },
  {
   "cell_type": "code",
   "execution_count": 9,
   "id": "17367031",
   "metadata": {},
   "outputs": [],
   "source": [
    "#tuned_top5 = [tune_model(i) for i in top5]"
   ]
  },
  {
   "cell_type": "markdown",
   "id": "71182b48",
   "metadata": {},
   "source": [
    "Let's create bagging ensembles for all our top 5 models:"
   ]
  },
  {
   "cell_type": "code",
   "execution_count": 10,
   "id": "f28160f7",
   "metadata": {
    "scrolled": false
   },
   "outputs": [
    {
     "data": {
      "text/html": [
       "<style type=\"text/css\">\n",
       "#T_66286_row10_col0, #T_66286_row10_col1, #T_66286_row10_col2, #T_66286_row10_col3, #T_66286_row10_col4, #T_66286_row10_col5 {\n",
       "  background: yellow;\n",
       "}\n",
       "</style>\n",
       "<table id=\"T_66286_\">\n",
       "  <thead>\n",
       "    <tr>\n",
       "      <th class=\"blank level0\" >&nbsp;</th>\n",
       "      <th class=\"col_heading level0 col0\" >MAE</th>\n",
       "      <th class=\"col_heading level0 col1\" >MSE</th>\n",
       "      <th class=\"col_heading level0 col2\" >RMSE</th>\n",
       "      <th class=\"col_heading level0 col3\" >R2</th>\n",
       "      <th class=\"col_heading level0 col4\" >RMSLE</th>\n",
       "      <th class=\"col_heading level0 col5\" >MAPE</th>\n",
       "    </tr>\n",
       "  </thead>\n",
       "  <tbody>\n",
       "    <tr>\n",
       "      <th id=\"T_66286_level0_row0\" class=\"row_heading level0 row0\" >0</th>\n",
       "      <td id=\"T_66286_row0_col0\" class=\"data row0 col0\" >28.7020</td>\n",
       "      <td id=\"T_66286_row0_col1\" class=\"data row0 col1\" >2102.6269</td>\n",
       "      <td id=\"T_66286_row0_col2\" class=\"data row0 col2\" >45.8544</td>\n",
       "      <td id=\"T_66286_row0_col3\" class=\"data row0 col3\" >0.9361</td>\n",
       "      <td id=\"T_66286_row0_col4\" class=\"data row0 col4\" >0.3365</td>\n",
       "      <td id=\"T_66286_row0_col5\" class=\"data row0 col5\" >0.3298</td>\n",
       "    </tr>\n",
       "    <tr>\n",
       "      <th id=\"T_66286_level0_row1\" class=\"row_heading level0 row1\" >1</th>\n",
       "      <td id=\"T_66286_row1_col0\" class=\"data row1 col0\" >27.8311</td>\n",
       "      <td id=\"T_66286_row1_col1\" class=\"data row1 col1\" >1952.9483</td>\n",
       "      <td id=\"T_66286_row1_col2\" class=\"data row1 col2\" >44.1922</td>\n",
       "      <td id=\"T_66286_row1_col3\" class=\"data row1 col3\" >0.9417</td>\n",
       "      <td id=\"T_66286_row1_col4\" class=\"data row1 col4\" >0.3575</td>\n",
       "      <td id=\"T_66286_row1_col5\" class=\"data row1 col5\" >0.3283</td>\n",
       "    </tr>\n",
       "    <tr>\n",
       "      <th id=\"T_66286_level0_row2\" class=\"row_heading level0 row2\" >2</th>\n",
       "      <td id=\"T_66286_row2_col0\" class=\"data row2 col0\" >27.2821</td>\n",
       "      <td id=\"T_66286_row2_col1\" class=\"data row2 col1\" >2024.3975</td>\n",
       "      <td id=\"T_66286_row2_col2\" class=\"data row2 col2\" >44.9933</td>\n",
       "      <td id=\"T_66286_row2_col3\" class=\"data row2 col3\" >0.9287</td>\n",
       "      <td id=\"T_66286_row2_col4\" class=\"data row2 col4\" >0.3479</td>\n",
       "      <td id=\"T_66286_row2_col5\" class=\"data row2 col5\" >0.3301</td>\n",
       "    </tr>\n",
       "    <tr>\n",
       "      <th id=\"T_66286_level0_row3\" class=\"row_heading level0 row3\" >3</th>\n",
       "      <td id=\"T_66286_row3_col0\" class=\"data row3 col0\" >26.9496</td>\n",
       "      <td id=\"T_66286_row3_col1\" class=\"data row3 col1\" >1789.3700</td>\n",
       "      <td id=\"T_66286_row3_col2\" class=\"data row3 col2\" >42.3009</td>\n",
       "      <td id=\"T_66286_row3_col3\" class=\"data row3 col3\" >0.9513</td>\n",
       "      <td id=\"T_66286_row3_col4\" class=\"data row3 col4\" >0.3798</td>\n",
       "      <td id=\"T_66286_row3_col5\" class=\"data row3 col5\" >0.3672</td>\n",
       "    </tr>\n",
       "    <tr>\n",
       "      <th id=\"T_66286_level0_row4\" class=\"row_heading level0 row4\" >4</th>\n",
       "      <td id=\"T_66286_row4_col0\" class=\"data row4 col0\" >28.2652</td>\n",
       "      <td id=\"T_66286_row4_col1\" class=\"data row4 col1\" >2076.7187</td>\n",
       "      <td id=\"T_66286_row4_col2\" class=\"data row4 col2\" >45.5710</td>\n",
       "      <td id=\"T_66286_row4_col3\" class=\"data row4 col3\" >0.9408</td>\n",
       "      <td id=\"T_66286_row4_col4\" class=\"data row4 col4\" >0.3769</td>\n",
       "      <td id=\"T_66286_row4_col5\" class=\"data row4 col5\" >0.3972</td>\n",
       "    </tr>\n",
       "    <tr>\n",
       "      <th id=\"T_66286_level0_row5\" class=\"row_heading level0 row5\" >5</th>\n",
       "      <td id=\"T_66286_row5_col0\" class=\"data row5 col0\" >29.0071</td>\n",
       "      <td id=\"T_66286_row5_col1\" class=\"data row5 col1\" >2145.9664</td>\n",
       "      <td id=\"T_66286_row5_col2\" class=\"data row5 col2\" >46.3246</td>\n",
       "      <td id=\"T_66286_row5_col3\" class=\"data row5 col3\" >0.9350</td>\n",
       "      <td id=\"T_66286_row5_col4\" class=\"data row5 col4\" >0.3702</td>\n",
       "      <td id=\"T_66286_row5_col5\" class=\"data row5 col5\" >0.3555</td>\n",
       "    </tr>\n",
       "    <tr>\n",
       "      <th id=\"T_66286_level0_row6\" class=\"row_heading level0 row6\" >6</th>\n",
       "      <td id=\"T_66286_row6_col0\" class=\"data row6 col0\" >28.1665</td>\n",
       "      <td id=\"T_66286_row6_col1\" class=\"data row6 col1\" >2112.4694</td>\n",
       "      <td id=\"T_66286_row6_col2\" class=\"data row6 col2\" >45.9616</td>\n",
       "      <td id=\"T_66286_row6_col3\" class=\"data row6 col3\" >0.9387</td>\n",
       "      <td id=\"T_66286_row6_col4\" class=\"data row6 col4\" >0.3494</td>\n",
       "      <td id=\"T_66286_row6_col5\" class=\"data row6 col5\" >0.3206</td>\n",
       "    </tr>\n",
       "    <tr>\n",
       "      <th id=\"T_66286_level0_row7\" class=\"row_heading level0 row7\" >7</th>\n",
       "      <td id=\"T_66286_row7_col0\" class=\"data row7 col0\" >28.2519</td>\n",
       "      <td id=\"T_66286_row7_col1\" class=\"data row7 col1\" >2191.1045</td>\n",
       "      <td id=\"T_66286_row7_col2\" class=\"data row7 col2\" >46.8092</td>\n",
       "      <td id=\"T_66286_row7_col3\" class=\"data row7 col3\" >0.9334</td>\n",
       "      <td id=\"T_66286_row7_col4\" class=\"data row7 col4\" >0.3481</td>\n",
       "      <td id=\"T_66286_row7_col5\" class=\"data row7 col5\" >0.3101</td>\n",
       "    </tr>\n",
       "    <tr>\n",
       "      <th id=\"T_66286_level0_row8\" class=\"row_heading level0 row8\" >8</th>\n",
       "      <td id=\"T_66286_row8_col0\" class=\"data row8 col0\" >26.7870</td>\n",
       "      <td id=\"T_66286_row8_col1\" class=\"data row8 col1\" >1742.3751</td>\n",
       "      <td id=\"T_66286_row8_col2\" class=\"data row8 col2\" >41.7418</td>\n",
       "      <td id=\"T_66286_row8_col3\" class=\"data row8 col3\" >0.9487</td>\n",
       "      <td id=\"T_66286_row8_col4\" class=\"data row8 col4\" >0.3632</td>\n",
       "      <td id=\"T_66286_row8_col5\" class=\"data row8 col5\" >0.3524</td>\n",
       "    </tr>\n",
       "    <tr>\n",
       "      <th id=\"T_66286_level0_row9\" class=\"row_heading level0 row9\" >9</th>\n",
       "      <td id=\"T_66286_row9_col0\" class=\"data row9 col0\" >28.3572</td>\n",
       "      <td id=\"T_66286_row9_col1\" class=\"data row9 col1\" >2018.7321</td>\n",
       "      <td id=\"T_66286_row9_col2\" class=\"data row9 col2\" >44.9303</td>\n",
       "      <td id=\"T_66286_row9_col3\" class=\"data row9 col3\" >0.9317</td>\n",
       "      <td id=\"T_66286_row9_col4\" class=\"data row9 col4\" >0.3874</td>\n",
       "      <td id=\"T_66286_row9_col5\" class=\"data row9 col5\" >0.3744</td>\n",
       "    </tr>\n",
       "    <tr>\n",
       "      <th id=\"T_66286_level0_row10\" class=\"row_heading level0 row10\" >Mean</th>\n",
       "      <td id=\"T_66286_row10_col0\" class=\"data row10 col0\" >27.9600</td>\n",
       "      <td id=\"T_66286_row10_col1\" class=\"data row10 col1\" >2015.6709</td>\n",
       "      <td id=\"T_66286_row10_col2\" class=\"data row10 col2\" >44.8679</td>\n",
       "      <td id=\"T_66286_row10_col3\" class=\"data row10 col3\" >0.9386</td>\n",
       "      <td id=\"T_66286_row10_col4\" class=\"data row10 col4\" >0.3617</td>\n",
       "      <td id=\"T_66286_row10_col5\" class=\"data row10 col5\" >0.3465</td>\n",
       "    </tr>\n",
       "    <tr>\n",
       "      <th id=\"T_66286_level0_row11\" class=\"row_heading level0 row11\" >SD</th>\n",
       "      <td id=\"T_66286_row11_col0\" class=\"data row11 col0\" >0.6999</td>\n",
       "      <td id=\"T_66286_row11_col1\" class=\"data row11 col1\" >140.8312</td>\n",
       "      <td id=\"T_66286_row11_col2\" class=\"data row11 col2\" >1.5935</td>\n",
       "      <td id=\"T_66286_row11_col3\" class=\"data row11 col3\" >0.0069</td>\n",
       "      <td id=\"T_66286_row11_col4\" class=\"data row11 col4\" >0.0157</td>\n",
       "      <td id=\"T_66286_row11_col5\" class=\"data row11 col5\" >0.0260</td>\n",
       "    </tr>\n",
       "  </tbody>\n",
       "</table>\n"
      ],
      "text/plain": [
       "<pandas.io.formats.style.Styler at 0x258d91cd7c0>"
      ]
     },
     "metadata": {},
     "output_type": "display_data"
    }
   ],
   "source": [
    "bagged_top5 = [ensemble_model(i) for i in top5]"
   ]
  },
  {
   "cell_type": "markdown",
   "id": "43ba6b4f",
   "metadata": {},
   "source": [
    "We can also try to blend the models (i.e., have them vote using a `VotingRegressor`):"
   ]
  },
  {
   "cell_type": "code",
   "execution_count": 11,
   "id": "8065625c",
   "metadata": {},
   "outputs": [
    {
     "data": {
      "text/html": [
       "<style type=\"text/css\">\n",
       "#T_56c96_row10_col0, #T_56c96_row10_col1, #T_56c96_row10_col2, #T_56c96_row10_col3, #T_56c96_row10_col4, #T_56c96_row10_col5 {\n",
       "  background: yellow;\n",
       "}\n",
       "</style>\n",
       "<table id=\"T_56c96_\">\n",
       "  <thead>\n",
       "    <tr>\n",
       "      <th class=\"blank level0\" >&nbsp;</th>\n",
       "      <th class=\"col_heading level0 col0\" >MAE</th>\n",
       "      <th class=\"col_heading level0 col1\" >MSE</th>\n",
       "      <th class=\"col_heading level0 col2\" >RMSE</th>\n",
       "      <th class=\"col_heading level0 col3\" >R2</th>\n",
       "      <th class=\"col_heading level0 col4\" >RMSLE</th>\n",
       "      <th class=\"col_heading level0 col5\" >MAPE</th>\n",
       "    </tr>\n",
       "  </thead>\n",
       "  <tbody>\n",
       "    <tr>\n",
       "      <th id=\"T_56c96_level0_row0\" class=\"row_heading level0 row0\" >0</th>\n",
       "      <td id=\"T_56c96_row0_col0\" class=\"data row0 col0\" >24.9445</td>\n",
       "      <td id=\"T_56c96_row0_col1\" class=\"data row0 col1\" >1654.4372</td>\n",
       "      <td id=\"T_56c96_row0_col2\" class=\"data row0 col2\" >40.6748</td>\n",
       "      <td id=\"T_56c96_row0_col3\" class=\"data row0 col3\" >0.9498</td>\n",
       "      <td id=\"T_56c96_row0_col4\" class=\"data row0 col4\" >0.3329</td>\n",
       "      <td id=\"T_56c96_row0_col5\" class=\"data row0 col5\" >0.2961</td>\n",
       "    </tr>\n",
       "    <tr>\n",
       "      <th id=\"T_56c96_level0_row1\" class=\"row_heading level0 row1\" >1</th>\n",
       "      <td id=\"T_56c96_row1_col0\" class=\"data row1 col0\" >23.6231</td>\n",
       "      <td id=\"T_56c96_row1_col1\" class=\"data row1 col1\" >1482.7093</td>\n",
       "      <td id=\"T_56c96_row1_col2\" class=\"data row1 col2\" >38.5060</td>\n",
       "      <td id=\"T_56c96_row1_col3\" class=\"data row1 col3\" >0.9557</td>\n",
       "      <td id=\"T_56c96_row1_col4\" class=\"data row1 col4\" >0.3487</td>\n",
       "      <td id=\"T_56c96_row1_col5\" class=\"data row1 col5\" >0.3096</td>\n",
       "    </tr>\n",
       "    <tr>\n",
       "      <th id=\"T_56c96_level0_row2\" class=\"row_heading level0 row2\" >2</th>\n",
       "      <td id=\"T_56c96_row2_col0\" class=\"data row2 col0\" >24.1051</td>\n",
       "      <td id=\"T_56c96_row2_col1\" class=\"data row2 col1\" >1640.2771</td>\n",
       "      <td id=\"T_56c96_row2_col2\" class=\"data row2 col2\" >40.5003</td>\n",
       "      <td id=\"T_56c96_row2_col3\" class=\"data row2 col3\" >0.9422</td>\n",
       "      <td id=\"T_56c96_row2_col4\" class=\"data row2 col4\" >0.3531</td>\n",
       "      <td id=\"T_56c96_row2_col5\" class=\"data row2 col5\" >0.3387</td>\n",
       "    </tr>\n",
       "    <tr>\n",
       "      <th id=\"T_56c96_level0_row3\" class=\"row_heading level0 row3\" >3</th>\n",
       "      <td id=\"T_56c96_row3_col0\" class=\"data row3 col0\" >22.3618</td>\n",
       "      <td id=\"T_56c96_row3_col1\" class=\"data row3 col1\" >1265.2419</td>\n",
       "      <td id=\"T_56c96_row3_col2\" class=\"data row3 col2\" >35.5702</td>\n",
       "      <td id=\"T_56c96_row3_col3\" class=\"data row3 col3\" >0.9656</td>\n",
       "      <td id=\"T_56c96_row3_col4\" class=\"data row3 col4\" >0.3518</td>\n",
       "      <td id=\"T_56c96_row3_col5\" class=\"data row3 col5\" >0.3305</td>\n",
       "    </tr>\n",
       "    <tr>\n",
       "      <th id=\"T_56c96_level0_row4\" class=\"row_heading level0 row4\" >4</th>\n",
       "      <td id=\"T_56c96_row4_col0\" class=\"data row4 col0\" >24.4278</td>\n",
       "      <td id=\"T_56c96_row4_col1\" class=\"data row4 col1\" >1622.9167</td>\n",
       "      <td id=\"T_56c96_row4_col2\" class=\"data row4 col2\" >40.2854</td>\n",
       "      <td id=\"T_56c96_row4_col3\" class=\"data row4 col3\" >0.9537</td>\n",
       "      <td id=\"T_56c96_row4_col4\" class=\"data row4 col4\" >0.3595</td>\n",
       "      <td id=\"T_56c96_row4_col5\" class=\"data row4 col5\" >0.3547</td>\n",
       "    </tr>\n",
       "    <tr>\n",
       "      <th id=\"T_56c96_level0_row5\" class=\"row_heading level0 row5\" >5</th>\n",
       "      <td id=\"T_56c96_row5_col0\" class=\"data row5 col0\" >24.3138</td>\n",
       "      <td id=\"T_56c96_row5_col1\" class=\"data row5 col1\" >1572.2252</td>\n",
       "      <td id=\"T_56c96_row5_col2\" class=\"data row5 col2\" >39.6513</td>\n",
       "      <td id=\"T_56c96_row5_col3\" class=\"data row5 col3\" >0.9524</td>\n",
       "      <td id=\"T_56c96_row5_col4\" class=\"data row5 col4\" >0.3571</td>\n",
       "      <td id=\"T_56c96_row5_col5\" class=\"data row5 col5\" >0.3293</td>\n",
       "    </tr>\n",
       "    <tr>\n",
       "      <th id=\"T_56c96_level0_row6\" class=\"row_heading level0 row6\" >6</th>\n",
       "      <td id=\"T_56c96_row6_col0\" class=\"data row6 col0\" >24.2381</td>\n",
       "      <td id=\"T_56c96_row6_col1\" class=\"data row6 col1\" >1535.6864</td>\n",
       "      <td id=\"T_56c96_row6_col2\" class=\"data row6 col2\" >39.1878</td>\n",
       "      <td id=\"T_56c96_row6_col3\" class=\"data row6 col3\" >0.9555</td>\n",
       "      <td id=\"T_56c96_row6_col4\" class=\"data row6 col4\" >0.3506</td>\n",
       "      <td id=\"T_56c96_row6_col5\" class=\"data row6 col5\" >0.3163</td>\n",
       "    </tr>\n",
       "    <tr>\n",
       "      <th id=\"T_56c96_level0_row7\" class=\"row_heading level0 row7\" >7</th>\n",
       "      <td id=\"T_56c96_row7_col0\" class=\"data row7 col0\" >24.4033</td>\n",
       "      <td id=\"T_56c96_row7_col1\" class=\"data row7 col1\" >1800.4810</td>\n",
       "      <td id=\"T_56c96_row7_col2\" class=\"data row7 col2\" >42.4321</td>\n",
       "      <td id=\"T_56c96_row7_col3\" class=\"data row7 col3\" >0.9452</td>\n",
       "      <td id=\"T_56c96_row7_col4\" class=\"data row7 col4\" >0.3314</td>\n",
       "      <td id=\"T_56c96_row7_col5\" class=\"data row7 col5\" >0.2837</td>\n",
       "    </tr>\n",
       "    <tr>\n",
       "      <th id=\"T_56c96_level0_row8\" class=\"row_heading level0 row8\" >8</th>\n",
       "      <td id=\"T_56c96_row8_col0\" class=\"data row8 col0\" >22.9789</td>\n",
       "      <td id=\"T_56c96_row8_col1\" class=\"data row8 col1\" >1258.2064</td>\n",
       "      <td id=\"T_56c96_row8_col2\" class=\"data row8 col2\" >35.4712</td>\n",
       "      <td id=\"T_56c96_row8_col3\" class=\"data row8 col3\" >0.9630</td>\n",
       "      <td id=\"T_56c96_row8_col4\" class=\"data row8 col4\" >0.3570</td>\n",
       "      <td id=\"T_56c96_row8_col5\" class=\"data row8 col5\" >0.3330</td>\n",
       "    </tr>\n",
       "    <tr>\n",
       "      <th id=\"T_56c96_level0_row9\" class=\"row_heading level0 row9\" >9</th>\n",
       "      <td id=\"T_56c96_row9_col0\" class=\"data row9 col0\" >23.6345</td>\n",
       "      <td id=\"T_56c96_row9_col1\" class=\"data row9 col1\" >1508.1850</td>\n",
       "      <td id=\"T_56c96_row9_col2\" class=\"data row9 col2\" >38.8354</td>\n",
       "      <td id=\"T_56c96_row9_col3\" class=\"data row9 col3\" >0.9490</td>\n",
       "      <td id=\"T_56c96_row9_col4\" class=\"data row9 col4\" >0.3381</td>\n",
       "      <td id=\"T_56c96_row9_col5\" class=\"data row9 col5\" >0.3027</td>\n",
       "    </tr>\n",
       "    <tr>\n",
       "      <th id=\"T_56c96_level0_row10\" class=\"row_heading level0 row10\" >Mean</th>\n",
       "      <td id=\"T_56c96_row10_col0\" class=\"data row10 col0\" >23.9031</td>\n",
       "      <td id=\"T_56c96_row10_col1\" class=\"data row10 col1\" >1534.0366</td>\n",
       "      <td id=\"T_56c96_row10_col2\" class=\"data row10 col2\" >39.1115</td>\n",
       "      <td id=\"T_56c96_row10_col3\" class=\"data row10 col3\" >0.9532</td>\n",
       "      <td id=\"T_56c96_row10_col4\" class=\"data row10 col4\" >0.3480</td>\n",
       "      <td id=\"T_56c96_row10_col5\" class=\"data row10 col5\" >0.3195</td>\n",
       "    </tr>\n",
       "    <tr>\n",
       "      <th id=\"T_56c96_level0_row11\" class=\"row_heading level0 row11\" >SD</th>\n",
       "      <td id=\"T_56c96_row11_col0\" class=\"data row11 col0\" >0.7288</td>\n",
       "      <td id=\"T_56c96_row11_col1\" class=\"data row11 col1\" >160.5529</td>\n",
       "      <td id=\"T_56c96_row11_col2\" class=\"data row11 col2\" >2.0811</td>\n",
       "      <td id=\"T_56c96_row11_col3\" class=\"data row11 col3\" >0.0069</td>\n",
       "      <td id=\"T_56c96_row11_col4\" class=\"data row11 col4\" >0.0097</td>\n",
       "      <td id=\"T_56c96_row11_col5\" class=\"data row11 col5\" >0.0206</td>\n",
       "    </tr>\n",
       "  </tbody>\n",
       "</table>\n"
      ],
      "text/plain": [
       "<pandas.io.formats.style.Styler at 0x258d92371f0>"
      ]
     },
     "metadata": {},
     "output_type": "display_data"
    }
   ],
   "source": [
    "blender = blend_models(estimator_list = top5)"
   ]
  },
  {
   "cell_type": "markdown",
   "id": "65b41305",
   "metadata": {},
   "source": [
    "...or stack them (i.e., train a model to figure out how to blend the models):"
   ]
  },
  {
   "cell_type": "code",
   "execution_count": 12,
   "id": "296a67a1",
   "metadata": {},
   "outputs": [
    {
     "data": {
      "text/html": [
       "<style type=\"text/css\">\n",
       "#T_eaca6_row10_col0, #T_eaca6_row10_col1, #T_eaca6_row10_col2, #T_eaca6_row10_col3, #T_eaca6_row10_col4, #T_eaca6_row10_col5 {\n",
       "  background: yellow;\n",
       "}\n",
       "</style>\n",
       "<table id=\"T_eaca6_\">\n",
       "  <thead>\n",
       "    <tr>\n",
       "      <th class=\"blank level0\" >&nbsp;</th>\n",
       "      <th class=\"col_heading level0 col0\" >MAE</th>\n",
       "      <th class=\"col_heading level0 col1\" >MSE</th>\n",
       "      <th class=\"col_heading level0 col2\" >RMSE</th>\n",
       "      <th class=\"col_heading level0 col3\" >R2</th>\n",
       "      <th class=\"col_heading level0 col4\" >RMSLE</th>\n",
       "      <th class=\"col_heading level0 col5\" >MAPE</th>\n",
       "    </tr>\n",
       "  </thead>\n",
       "  <tbody>\n",
       "    <tr>\n",
       "      <th id=\"T_eaca6_level0_row0\" class=\"row_heading level0 row0\" >0</th>\n",
       "      <td id=\"T_eaca6_row0_col0\" class=\"data row0 col0\" >24.6164</td>\n",
       "      <td id=\"T_eaca6_row0_col1\" class=\"data row0 col1\" >1573.6496</td>\n",
       "      <td id=\"T_eaca6_row0_col2\" class=\"data row0 col2\" >39.6693</td>\n",
       "      <td id=\"T_eaca6_row0_col3\" class=\"data row0 col3\" >0.9522</td>\n",
       "      <td id=\"T_eaca6_row0_col4\" class=\"data row0 col4\" >0.3701</td>\n",
       "      <td id=\"T_eaca6_row0_col5\" class=\"data row0 col5\" >0.3210</td>\n",
       "    </tr>\n",
       "    <tr>\n",
       "      <th id=\"T_eaca6_level0_row1\" class=\"row_heading level0 row1\" >1</th>\n",
       "      <td id=\"T_eaca6_row1_col0\" class=\"data row1 col0\" >23.4735</td>\n",
       "      <td id=\"T_eaca6_row1_col1\" class=\"data row1 col1\" >1436.2826</td>\n",
       "      <td id=\"T_eaca6_row1_col2\" class=\"data row1 col2\" >37.8983</td>\n",
       "      <td id=\"T_eaca6_row1_col3\" class=\"data row1 col3\" >0.9571</td>\n",
       "      <td id=\"T_eaca6_row1_col4\" class=\"data row1 col4\" >0.4127</td>\n",
       "      <td id=\"T_eaca6_row1_col5\" class=\"data row1 col5\" >0.3422</td>\n",
       "    </tr>\n",
       "    <tr>\n",
       "      <th id=\"T_eaca6_level0_row2\" class=\"row_heading level0 row2\" >2</th>\n",
       "      <td id=\"T_eaca6_row2_col0\" class=\"data row2 col0\" >24.3133</td>\n",
       "      <td id=\"T_eaca6_row2_col1\" class=\"data row2 col1\" >1606.1938</td>\n",
       "      <td id=\"T_eaca6_row2_col2\" class=\"data row2 col2\" >40.0773</td>\n",
       "      <td id=\"T_eaca6_row2_col3\" class=\"data row2 col3\" >0.9434</td>\n",
       "      <td id=\"T_eaca6_row2_col4\" class=\"data row2 col4\" >0.4120</td>\n",
       "      <td id=\"T_eaca6_row2_col5\" class=\"data row2 col5\" >0.3816</td>\n",
       "    </tr>\n",
       "    <tr>\n",
       "      <th id=\"T_eaca6_level0_row3\" class=\"row_heading level0 row3\" >3</th>\n",
       "      <td id=\"T_eaca6_row3_col0\" class=\"data row3 col0\" >21.7945</td>\n",
       "      <td id=\"T_eaca6_row3_col1\" class=\"data row3 col1\" >1171.8022</td>\n",
       "      <td id=\"T_eaca6_row3_col2\" class=\"data row3 col2\" >34.2316</td>\n",
       "      <td id=\"T_eaca6_row3_col3\" class=\"data row3 col3\" >0.9681</td>\n",
       "      <td id=\"T_eaca6_row3_col4\" class=\"data row3 col4\" >0.4071</td>\n",
       "      <td id=\"T_eaca6_row3_col5\" class=\"data row3 col5\" >0.3688</td>\n",
       "    </tr>\n",
       "    <tr>\n",
       "      <th id=\"T_eaca6_level0_row4\" class=\"row_heading level0 row4\" >4</th>\n",
       "      <td id=\"T_eaca6_row4_col0\" class=\"data row4 col0\" >24.1031</td>\n",
       "      <td id=\"T_eaca6_row4_col1\" class=\"data row4 col1\" >1572.2421</td>\n",
       "      <td id=\"T_eaca6_row4_col2\" class=\"data row4 col2\" >39.6515</td>\n",
       "      <td id=\"T_eaca6_row4_col3\" class=\"data row4 col3\" >0.9552</td>\n",
       "      <td id=\"T_eaca6_row4_col4\" class=\"data row4 col4\" >0.4056</td>\n",
       "      <td id=\"T_eaca6_row4_col5\" class=\"data row4 col5\" >0.4008</td>\n",
       "    </tr>\n",
       "    <tr>\n",
       "      <th id=\"T_eaca6_level0_row5\" class=\"row_heading level0 row5\" >5</th>\n",
       "      <td id=\"T_eaca6_row5_col0\" class=\"data row5 col0\" >24.0286</td>\n",
       "      <td id=\"T_eaca6_row5_col1\" class=\"data row5 col1\" >1508.9949</td>\n",
       "      <td id=\"T_eaca6_row5_col2\" class=\"data row5 col2\" >38.8458</td>\n",
       "      <td id=\"T_eaca6_row5_col3\" class=\"data row5 col3\" >0.9543</td>\n",
       "      <td id=\"T_eaca6_row5_col4\" class=\"data row5 col4\" >0.4221</td>\n",
       "      <td id=\"T_eaca6_row5_col5\" class=\"data row5 col5\" >0.3681</td>\n",
       "    </tr>\n",
       "    <tr>\n",
       "      <th id=\"T_eaca6_level0_row6\" class=\"row_heading level0 row6\" >6</th>\n",
       "      <td id=\"T_eaca6_row6_col0\" class=\"data row6 col0\" >23.5935</td>\n",
       "      <td id=\"T_eaca6_row6_col1\" class=\"data row6 col1\" >1462.9499</td>\n",
       "      <td id=\"T_eaca6_row6_col2\" class=\"data row6 col2\" >38.2485</td>\n",
       "      <td id=\"T_eaca6_row6_col3\" class=\"data row6 col3\" >0.9576</td>\n",
       "      <td id=\"T_eaca6_row6_col4\" class=\"data row6 col4\" >0.3781</td>\n",
       "      <td id=\"T_eaca6_row6_col5\" class=\"data row6 col5\" >0.3316</td>\n",
       "    </tr>\n",
       "    <tr>\n",
       "      <th id=\"T_eaca6_level0_row7\" class=\"row_heading level0 row7\" >7</th>\n",
       "      <td id=\"T_eaca6_row7_col0\" class=\"data row7 col0\" >24.3362</td>\n",
       "      <td id=\"T_eaca6_row7_col1\" class=\"data row7 col1\" >1776.8851</td>\n",
       "      <td id=\"T_eaca6_row7_col2\" class=\"data row7 col2\" >42.1531</td>\n",
       "      <td id=\"T_eaca6_row7_col3\" class=\"data row7 col3\" >0.9460</td>\n",
       "      <td id=\"T_eaca6_row7_col4\" class=\"data row7 col4\" >0.3947</td>\n",
       "      <td id=\"T_eaca6_row7_col5\" class=\"data row7 col5\" >0.3007</td>\n",
       "    </tr>\n",
       "    <tr>\n",
       "      <th id=\"T_eaca6_level0_row8\" class=\"row_heading level0 row8\" >8</th>\n",
       "      <td id=\"T_eaca6_row8_col0\" class=\"data row8 col0\" >22.7041</td>\n",
       "      <td id=\"T_eaca6_row8_col1\" class=\"data row8 col1\" >1222.3413</td>\n",
       "      <td id=\"T_eaca6_row8_col2\" class=\"data row8 col2\" >34.9620</td>\n",
       "      <td id=\"T_eaca6_row8_col3\" class=\"data row8 col3\" >0.9640</td>\n",
       "      <td id=\"T_eaca6_row8_col4\" class=\"data row8 col4\" >0.4107</td>\n",
       "      <td id=\"T_eaca6_row8_col5\" class=\"data row8 col5\" >0.3630</td>\n",
       "    </tr>\n",
       "    <tr>\n",
       "      <th id=\"T_eaca6_level0_row9\" class=\"row_heading level0 row9\" >9</th>\n",
       "      <td id=\"T_eaca6_row9_col0\" class=\"data row9 col0\" >23.5239</td>\n",
       "      <td id=\"T_eaca6_row9_col1\" class=\"data row9 col1\" >1496.6732</td>\n",
       "      <td id=\"T_eaca6_row9_col2\" class=\"data row9 col2\" >38.6869</td>\n",
       "      <td id=\"T_eaca6_row9_col3\" class=\"data row9 col3\" >0.9494</td>\n",
       "      <td id=\"T_eaca6_row9_col4\" class=\"data row9 col4\" >0.3827</td>\n",
       "      <td id=\"T_eaca6_row9_col5\" class=\"data row9 col5\" >0.3169</td>\n",
       "    </tr>\n",
       "    <tr>\n",
       "      <th id=\"T_eaca6_level0_row10\" class=\"row_heading level0 row10\" >Mean</th>\n",
       "      <td id=\"T_eaca6_row10_col0\" class=\"data row10 col0\" >23.6487</td>\n",
       "      <td id=\"T_eaca6_row10_col1\" class=\"data row10 col1\" >1482.8015</td>\n",
       "      <td id=\"T_eaca6_row10_col2\" class=\"data row10 col2\" >38.4424</td>\n",
       "      <td id=\"T_eaca6_row10_col3\" class=\"data row10 col3\" >0.9547</td>\n",
       "      <td id=\"T_eaca6_row10_col4\" class=\"data row10 col4\" >0.3996</td>\n",
       "      <td id=\"T_eaca6_row10_col5\" class=\"data row10 col5\" >0.3495</td>\n",
       "    </tr>\n",
       "    <tr>\n",
       "      <th id=\"T_eaca6_level0_row11\" class=\"row_heading level0 row11\" >SD</th>\n",
       "      <td id=\"T_eaca6_row11_col0\" class=\"data row11 col0\" >0.8113</td>\n",
       "      <td id=\"T_eaca6_row11_col1\" class=\"data row11 col1\" >169.1037</td>\n",
       "      <td id=\"T_eaca6_row11_col2\" class=\"data row11 col2\" >2.2318</td>\n",
       "      <td id=\"T_eaca6_row11_col3\" class=\"data row11 col3\" >0.0072</td>\n",
       "      <td id=\"T_eaca6_row11_col4\" class=\"data row11 col4\" >0.0164</td>\n",
       "      <td id=\"T_eaca6_row11_col5\" class=\"data row11 col5\" >0.0303</td>\n",
       "    </tr>\n",
       "  </tbody>\n",
       "</table>\n"
      ],
      "text/plain": [
       "<pandas.io.formats.style.Styler at 0x2597fc3b190>"
      ]
     },
     "metadata": {},
     "output_type": "display_data"
    }
   ],
   "source": [
    "stacked = stack_models(estimator_list = top5)"
   ]
  },
  {
   "cell_type": "markdown",
   "id": "d16a2d25",
   "metadata": {},
   "source": [
    "Now we've trained a bunch of models (all the individual models + the ensemble + the blended models). Instead of sorting through all the models to pick what's best we can let PyCaret do it for us using the `automl` function:"
   ]
  },
  {
   "cell_type": "code",
   "execution_count": 13,
   "id": "17a43535",
   "metadata": {},
   "outputs": [],
   "source": [
    "best = automl(optimize='R2')"
   ]
  },
  {
   "cell_type": "markdown",
   "id": "49bde77e",
   "metadata": {},
   "source": [
    "Here's the best model we found in the above process:"
   ]
  },
  {
   "cell_type": "code",
   "execution_count": 14,
   "id": "66c514e9",
   "metadata": {},
   "outputs": [
    {
     "data": {
      "text/plain": [
       "StackingRegressor(cv=KFold(n_splits=10, random_state=RandomState(MT19937) at 0x258DA1C8840,\n",
       "   shuffle=False),\n",
       "                  estimators=[('catboost',\n",
       "                               <catboost.core.CatBoostRegressor object at 0x00000258D92B3D90>),\n",
       "                              ('xgboost',\n",
       "                               XGBRegressor(base_score=0.5, booster='gbtree',\n",
       "                                            colsample_bylevel=1,\n",
       "                                            colsample_bynode=1,\n",
       "                                            colsample_bytree=1,\n",
       "                                            enable_categorical=False, gamma=0,\n",
       "                                            gpu_id=-1, impor...\n",
       "                                                     max_samples=None,\n",
       "                                                     min_impurity_decrease=0.0,\n",
       "                                                     min_impurity_split=None,\n",
       "                                                     min_samples_leaf=1,\n",
       "                                                     min_samples_split=2,\n",
       "                                                     min_weight_fraction_leaf=0.0,\n",
       "                                                     n_estimators=100,\n",
       "                                                     n_jobs=-1, oob_score=False,\n",
       "                                                     random_state=8002,\n",
       "                                                     verbose=0,\n",
       "                                                     warm_start=False))],\n",
       "                  final_estimator=LinearRegression(copy_X=True,\n",
       "                                                   fit_intercept=True,\n",
       "                                                   n_jobs=-1, normalize=False),\n",
       "                  n_jobs=-1, passthrough=True, verbose=0)"
      ]
     },
     "execution_count": 14,
     "metadata": {},
     "output_type": "execute_result"
    }
   ],
   "source": [
    "best"
   ]
  },
  {
   "cell_type": "markdown",
   "id": "e4a11223",
   "metadata": {},
   "source": [
    "# Evaluate models"
   ]
  },
  {
   "cell_type": "markdown",
   "id": "89238bf6",
   "metadata": {},
   "source": [
    "Let's compute predictions and scores on the test data using the best model found above:"
   ]
  },
  {
   "cell_type": "code",
   "execution_count": 15,
   "id": "4e8f22a9",
   "metadata": {},
   "outputs": [
    {
     "data": {
      "text/html": [
       "<style type=\"text/css\">\n",
       "</style>\n",
       "<table id=\"T_551ca_\">\n",
       "  <thead>\n",
       "    <tr>\n",
       "      <th class=\"blank level0\" >&nbsp;</th>\n",
       "      <th class=\"col_heading level0 col0\" >Model</th>\n",
       "      <th class=\"col_heading level0 col1\" >MAE</th>\n",
       "      <th class=\"col_heading level0 col2\" >MSE</th>\n",
       "      <th class=\"col_heading level0 col3\" >RMSE</th>\n",
       "      <th class=\"col_heading level0 col4\" >R2</th>\n",
       "      <th class=\"col_heading level0 col5\" >RMSLE</th>\n",
       "      <th class=\"col_heading level0 col6\" >MAPE</th>\n",
       "    </tr>\n",
       "  </thead>\n",
       "  <tbody>\n",
       "    <tr>\n",
       "      <th id=\"T_551ca_level0_row0\" class=\"row_heading level0 row0\" >0</th>\n",
       "      <td id=\"T_551ca_row0_col0\" class=\"data row0 col0\" >Stacking Regressor</td>\n",
       "      <td id=\"T_551ca_row0_col1\" class=\"data row0 col1\" >22.7138</td>\n",
       "      <td id=\"T_551ca_row0_col2\" class=\"data row0 col2\" >1370.3556</td>\n",
       "      <td id=\"T_551ca_row0_col3\" class=\"data row0 col3\" >37.0183</td>\n",
       "      <td id=\"T_551ca_row0_col4\" class=\"data row0 col4\" >0.9578</td>\n",
       "      <td id=\"T_551ca_row0_col5\" class=\"data row0 col5\" >0.4051</td>\n",
       "      <td id=\"T_551ca_row0_col6\" class=\"data row0 col6\" >0.3518</td>\n",
       "    </tr>\n",
       "  </tbody>\n",
       "</table>\n"
      ],
      "text/plain": [
       "<pandas.io.formats.style.Styler at 0x258d8ff2670>"
      ]
     },
     "metadata": {},
     "output_type": "display_data"
    }
   ],
   "source": [
    "preds = predict_model(best)"
   ]
  },
  {
   "cell_type": "code",
   "execution_count": 16,
   "id": "bd3ebc1a",
   "metadata": {},
   "outputs": [
    {
     "data": {
      "text/plain": [
       "Index(['hr', 'temp', 'atemp', 'hum', 'windspeed', 'season_1', 'season_2',\n",
       "       'season_3', 'season_4', 'yr_1', 'mnth_10', 'mnth_11', 'mnth_3',\n",
       "       'mnth_5', 'mnth_7', 'mnth_8', 'mnth_9', 'holiday_0', 'weekday_1',\n",
       "       'weekday_4', 'weekday_5', 'workingday_1', 'weathersit_1',\n",
       "       'weathersit_2', 'weathersit_3', 'weathersit_4', 'dteday_month_1',\n",
       "       'dteday_month_12', 'dteday_month_2', 'dteday_month_4', 'dteday_month_6',\n",
       "       'dteday_weekday_1', 'dteday_weekday_2', 'dteday_weekday_5',\n",
       "       'dteday_weekday_6', 'dteday_is_month_end_0', 'dteday_is_month_start_0',\n",
       "       'cnt', 'Label'],\n",
       "      dtype='object')"
      ]
     },
     "execution_count": 16,
     "metadata": {},
     "output_type": "execute_result"
    }
   ],
   "source": [
    "preds.columns"
   ]
  },
  {
   "cell_type": "code",
   "execution_count": 17,
   "id": "399cbd8a",
   "metadata": {},
   "outputs": [
    {
     "data": {
      "text/plain": [
       "array([568, 353, 281, ..., 463, 360,   6], dtype=int64)"
      ]
     },
     "execution_count": 17,
     "metadata": {},
     "output_type": "execute_result"
    }
   ],
   "source": [
    "preds.cnt.values"
   ]
  },
  {
   "cell_type": "code",
   "execution_count": 18,
   "id": "ca01f723",
   "metadata": {},
   "outputs": [
    {
     "data": {
      "text/plain": [
       "0       553.809694\n",
       "1       318.275549\n",
       "2       267.693497\n",
       "3        38.683506\n",
       "4         5.018970\n",
       "           ...    \n",
       "5209    189.428280\n",
       "5210     41.288023\n",
       "5211    437.996189\n",
       "5212    357.037902\n",
       "5213      8.866153\n",
       "Name: Label, Length: 5214, dtype: float64"
      ]
     },
     "execution_count": 18,
     "metadata": {},
     "output_type": "execute_result"
    }
   ],
   "source": [
    "preds.Label"
   ]
  },
  {
   "cell_type": "markdown",
   "id": "28069492",
   "metadata": {},
   "source": [
    "Looks good. As always, one should take a closer look at the predictions and the features used by the model"
   ]
  },
  {
   "cell_type": "code",
   "execution_count": 19,
   "id": "a68802a8",
   "metadata": {},
   "outputs": [
    {
     "data": {
      "image/png": "[encoded data removed]",
      "text/plain": [
       "<Figure size 576x396 with 1 Axes>"
      ]
     },
     "metadata": {},
     "output_type": "display_data"
    }
   ],
   "source": [
    "plot_model(best, 'error')"
   ]
  },
  {
   "cell_type": "code",
   "execution_count": 20,
   "id": "cda56c37",
   "metadata": {},
   "outputs": [
    {
     "data": {
      "image/png": "[encoded data removed]",
      "text/plain": [
       "<Figure size 576x396 with 2 Axes>"
      ]
     },
     "metadata": {},
     "output_type": "display_data"
    }
   ],
   "source": [
    "plot_model(best)"
   ]
  },
  {
   "cell_type": "markdown",
   "id": "6677ec92",
   "metadata": {},
   "source": [
    "A useful technique we haven't talked about yet is to plot so-called \"learning curves\": a plot of the performance versus the amount of training data given to the model. Among other things, such plots can indicate whether having more data (of the same kind) would increase performance, and provide an estimate of how much it would increase."
   ]
  },
  {
   "cell_type": "markdown",
   "id": "d3b91063",
   "metadata": {},
   "source": [
    "This takes some time to compute so I've attached the output as an image below."
   ]
  },
  {
   "cell_type": "code",
   "execution_count": 21,
   "id": "86ab0e88",
   "metadata": {},
   "outputs": [
    {
     "data": {
      "image/png": "[encoded data removed]",
      "text/plain": [
       "<Figure size 576x396 with 1 Axes>"
      ]
     },
     "metadata": {},
     "output_type": "display_data"
    }
   ],
   "source": [
    "plot_model(best, 'learning')"
   ]
  },
  {
   "cell_type": "markdown",
   "id": "7e1fe58a",
   "metadata": {},
   "source": [
    "Learning curve: \n",
    "\n",
    "<img width=40% src=\"assets/learningcurves.png\">"
   ]
  },
  {
   "cell_type": "markdown",
   "id": "0f1c5bfc",
   "metadata": {},
   "source": [
    "A way to get data-driven feature importances is to compute \"permutation importance\". Essentially: rank the features by observing the performance effects of random permutations of the entries in each feature column (separately). This is implemented in scikit-learn's `permutation_importance`."
   ]
  },
  {
   "cell_type": "code",
   "execution_count": 21,
   "id": "e6684cd2",
   "metadata": {},
   "outputs": [],
   "source": [
    "from sklearn.inspection import permutation_importance"
   ]
  },
  {
   "cell_type": "code",
   "execution_count": 22,
   "id": "5abd4b29",
   "metadata": {},
   "outputs": [],
   "source": [
    "X_test = get_config(variable='X_test')\n",
    "y_test = get_config(variable='y_test')"
   ]
  },
  {
   "cell_type": "code",
   "execution_count": 23,
   "id": "3f684a7a",
   "metadata": {},
   "outputs": [],
   "source": [
    "r = permutation_importance(best, X_test, y_test)"
   ]
  },
  {
   "cell_type": "markdown",
   "id": "c6bfa925",
   "metadata": {},
   "source": [
    "Here's the ranked list:"
   ]
  },
  {
   "cell_type": "code",
   "execution_count": 24,
   "id": "b28ba2f8",
   "metadata": {},
   "outputs": [
    {
     "name": "stdout",
     "output_type": "stream",
     "text": [
      "hr      1.398 +/- 0.018\n",
      "workingday_10.288 +/- 0.005\n",
      "yr_1    0.187 +/- 0.005\n",
      "temp    0.076 +/- 0.002\n",
      "hum     0.031 +/- 0.002\n",
      "season_10.028 +/- 0.001\n",
      "atemp   0.022 +/- 0.001\n",
      "weathersit_30.014 +/- 0.001\n",
      "weekday_50.008 +/- 0.000\n",
      "season_40.006 +/- 0.000\n",
      "weathersit_10.004 +/- 0.000\n",
      "dteday_weekday_50.004 +/- 0.000\n",
      "windspeed0.003 +/- 0.000\n",
      "dteday_weekday_60.003 +/- 0.000\n",
      "holiday_00.002 +/- 0.000\n",
      "dteday_month_120.002 +/- 0.000\n",
      "mnth_9  0.002 +/- 0.000\n",
      "weekday_40.002 +/- 0.000\n",
      "dteday_month_40.002 +/- 0.000\n",
      "weekday_10.002 +/- 0.000\n",
      "mnth_3  0.001 +/- 0.000\n",
      "mnth_5  0.001 +/- 0.000\n",
      "dteday_month_10.001 +/- 0.000\n",
      "mnth_11 0.001 +/- 0.000\n",
      "mnth_10 0.001 +/- 0.000\n",
      "dteday_is_month_start_00.001 +/- 0.000\n",
      "dteday_month_60.001 +/- 0.000\n",
      "season_20.001 +/- 0.000\n",
      "dteday_weekday_20.001 +/- 0.000\n",
      "mnth_8  0.001 +/- 0.000\n",
      "weathersit_20.001 +/- 0.000\n",
      "dteday_month_20.000 +/- 0.000\n",
      "mnth_7  0.000 +/- 0.000\n",
      "dteday_weekday_10.000 +/- 0.000\n",
      "dteday_is_month_end_00.000 +/- 0.000\n",
      "season_30.000 +/- 0.000\n"
     ]
    }
   ],
   "source": [
    "for i in r.importances_mean.argsort()[::-1]:\n",
    "    if r.importances_mean[i] - 2 * r.importances_std[i] > 0:\n",
    "        print(f\"{X_test.columns[i]:<8}\"\n",
    "        f\"{r.importances_mean[i]:.3f}\"\n",
    "        f\" +/- {r.importances_std[i]:.3f}\")"
   ]
  },
  {
   "cell_type": "markdown",
   "id": "417ca6b6",
   "metadata": {},
   "source": [
    "> That the `hr` is ranked high seems reasonable. That a year (`yr`) feature is ranked high should give us pause. If the model is supposed to be used to forecast demand we should've treated this as a time-series problem: trained the model on historical data and evaluated it on future data. However, as we don't know all the details about the situation generating the data, f.ex. whether the total number of bikes changed from year-to-year or whether there were efforts to recruit additional bike sharers, we can't really provide a very careful and comprehensive treatment of the problem."
   ]
  },
  {
   "cell_type": "markdown",
   "id": "77bca633",
   "metadata": {},
   "source": [
    "# Export pre-processing pipeline and model"
   ]
  },
  {
   "cell_type": "markdown",
   "id": "d134f5d5",
   "metadata": {},
   "source": [
    "Let's save the model for deployment in the next notebook:"
   ]
  },
  {
   "cell_type": "markdown",
   "id": "bf274067",
   "metadata": {},
   "source": [
    "First we finalize the model (meaning we use the test data as well for training the model [no reason to waste labelled data]):"
   ]
  },
  {
   "cell_type": "code",
   "execution_count": 25,
   "id": "16ee7b3f",
   "metadata": {},
   "outputs": [],
   "source": [
    "final_model = finalize_model(best)"
   ]
  },
  {
   "cell_type": "code",
   "execution_count": 26,
   "id": "e7d064ca",
   "metadata": {},
   "outputs": [
    {
     "name": "stdout",
     "output_type": "stream",
     "text": [
      "Transformation Pipeline and Model Successfully Saved\n"
     ]
    },
    {
     "data": {
      "text/plain": [
       "(Pipeline(memory=None,\n",
       "          steps=[('dtypes',\n",
       "                  DataTypes_Auto_infer(categorical_features=[],\n",
       "                                       display_types=True,\n",
       "                                       features_todrop=['instant'],\n",
       "                                       id_columns=['instant'],\n",
       "                                       ml_usecase='regression',\n",
       "                                       numerical_features=[], target='cnt',\n",
       "                                       time_features=[])),\n",
       "                 ('imputer',\n",
       "                  Simple_Imputer(categorical_strategy='not_available',\n",
       "                                 fill_value_categorical=None,\n",
       "                                 fill_value_numerical=None,\n",
       "                                 nu...\n",
       "                                                                       min_impurity_decrease=0.0,\n",
       "                                                                       min_impurity_split=None,\n",
       "                                                                       min_samples_leaf=1,\n",
       "                                                                       min_samples_split=2,\n",
       "                                                                       min_weight_fraction_leaf=0.0,\n",
       "                                                                       n_estimators=100,\n",
       "                                                                       n_jobs=-1,\n",
       "                                                                       oob_score=False,\n",
       "                                                                       random_state=8002,\n",
       "                                                                       verbose=0,\n",
       "                                                                       warm_start=False))],\n",
       "                                    final_estimator=LinearRegression(copy_X=True,\n",
       "                                                                     fit_intercept=True,\n",
       "                                                                     n_jobs=-1,\n",
       "                                                                     normalize=False),\n",
       "                                    n_jobs=-1, passthrough=True, verbose=0)]],\n",
       "          verbose=False),\n",
       " 'saved_model_161121.pkl')"
      ]
     },
     "execution_count": 26,
     "metadata": {},
     "output_type": "execute_result"
    }
   ],
   "source": [
    "save_model(final_model, 'saved_model_161121')"
   ]
  },
  {
   "cell_type": "code",
   "execution_count": null,
   "id": "b92909d2",
   "metadata": {},
   "outputs": [],
   "source": []
  }
 ],
 "metadata": {
  "kernelspec": {
   "display_name": "DAT801-deployment",
   "language": "python",
   "name": "dat801-deployment"
  },
  "language_info": {
   "codemirror_mode": {
    "name": "ipython",
    "version": 3
   },
   "file_extension": ".py",
   "mimetype": "text/x-python",
   "name": "python",
   "nbconvert_exporter": "python",
   "pygments_lexer": "ipython3",
   "version": "3.8.12"
  }
 },
 "nbformat": 4,
 "nbformat_minor": 5
}
